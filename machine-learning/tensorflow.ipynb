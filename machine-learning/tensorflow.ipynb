{
  "cells": [
    {
      "attachments": {},
      "cell_type": "markdown",
      "metadata": {
        "id": "y6tjhMbKqlxY"
      },
      "source": [
        "### Tensor"
      ]
    },
    {
      "attachments": {},
      "cell_type": "markdown",
      "metadata": {
        "id": "ByfONlraqti7"
      },
      "source": [
        "a tensor is a n-dimensional array.tensor is a generalization of vector and matrices to higher dimension\n",
        "\n",
        "it has two properties:  \n",
        "- DataType : ```float32```,```int16```,```string```\n",
        "- Shape : dimension of tensor\n",
        "\n",
        "\n"
      ]
    },
    {
      "cell_type": "code",
      "execution_count": 70,
      "metadata": {
        "colab": {
          "base_uri": "https://localhost:8080/"
        },
        "id": "D4sAP_puqscY",
        "outputId": "788afc74-5e3b-4392-c6f6-85a67f7026a6"
      },
      "outputs": [
        {
          "name": "stdout",
          "output_type": "stream",
          "text": [
            "Colab only includes TensorFlow 2.x; %tensorflow_version has no effect.\n"
          ]
        }
      ],
      "source": [
        "%tensorflow_version 2.x \n",
        "import tensorflow as tf"
      ]
    },
    {
      "cell_type": "code",
      "execution_count": 71,
      "metadata": {
        "id": "KmQmryOPrLZ2"
      },
      "outputs": [],
      "source": [
        "string = tf.Variable('hello tensor',tf.string)\n",
        "float_tensor = tf.Variable(3.2,tf.float64)\n",
        "int_tensor = tf.Variable([[1,2,3],[4,5,6]],tf.int64)"
      ]
    },
    {
      "cell_type": "code",
      "execution_count": 72,
      "metadata": {
        "colab": {
          "base_uri": "https://localhost:8080/"
        },
        "id": "eOBNRJydrm7B",
        "outputId": "09bed210-f8f2-4dea-8b33-e77436dd84b4"
      },
      "outputs": [
        {
          "data": {
            "text/plain": [
              "<tf.Variable 'Variable_2:0' shape=(2, 3) dtype=int32>"
            ]
          },
          "execution_count": 72,
          "metadata": {},
          "output_type": "execute_result"
        }
      ],
      "source": [
        "# string\n",
        "# float_tensor\n",
        "int_tensor # it is default a numpy array"
      ]
    },
    {
      "cell_type": "markdown",
      "metadata": {
        "id": "RRkuaxTPswqi"
      },
      "source": [
        "#### Rank of Tensor \n",
        "it is basically a dimension of tensor. rank of a tensor can be checked by ```rank()``` function. ***Rank starts from 0 so Rank 0 is a scalar***"
      ]
    },
    {
      "cell_type": "code",
      "execution_count": 73,
      "metadata": {
        "colab": {
          "base_uri": "https://localhost:8080/"
        },
        "id": "3BONDoz7tBeq",
        "outputId": "f9321bbe-b6e8-4b50-955e-537958ee1123"
      },
      "outputs": [
        {
          "data": {
            "text/plain": [
              "<tf.Tensor 'Rank:0' shape=() dtype=int32>"
            ]
          },
          "execution_count": 73,
          "metadata": {},
          "output_type": "execute_result"
        }
      ],
      "source": [
        "tf.rank(int_tensor) # rank 2"
      ]
    },
    {
      "cell_type": "markdown",
      "metadata": {
        "id": "1KAX-lZEtxdc"
      },
      "source": [
        "#### Determinig the shape"
      ]
    },
    {
      "cell_type": "code",
      "execution_count": 74,
      "metadata": {
        "colab": {
          "base_uri": "https://localhost:8080/"
        },
        "id": "spmvS_kftz78",
        "outputId": "68d559a4-689c-4ed2-f7e0-7ddfb0fb9e78"
      },
      "outputs": [
        {
          "data": {
            "text/plain": [
              "TensorShape([Dimension(2), Dimension(3)])"
            ]
          },
          "execution_count": 74,
          "metadata": {},
          "output_type": "execute_result"
        }
      ],
      "source": [
        "int_tensor.shape # two dimension each having three elements"
      ]
    },
    {
      "cell_type": "code",
      "execution_count": 84,
      "metadata": {
        "id": "WMWPaDJ4t2Ad"
      },
      "outputs": [],
      "source": [
        "# test_tensor = tf.Variable( [[\"a\",\"b\",\"c\"], [\"a\",\"c\",\"e\"],[\"d\",\"f\"]] ) # the tensor must be rectangular i.e each dimension must have same no of elements"
      ]
    },
    {
      "cell_type": "code",
      "execution_count": 77,
      "metadata": {
        "id": "rfqC4j1uuY0Q"
      },
      "outputs": [],
      "source": [
        "test_tensor = tf.Variable( [[\"a\",\"b\",\"c\"], [\"a\",\"c\",\"e\"],[\"d\",\"f\",\"e\"]] ) "
      ]
    },
    {
      "cell_type": "code",
      "execution_count": 78,
      "metadata": {
        "colab": {
          "base_uri": "https://localhost:8080/"
        },
        "id": "gr1WBsAAump-",
        "outputId": "8e5674cd-3c70-46da-d14b-fa520d5874ae"
      },
      "outputs": [
        {
          "name": "stdout",
          "output_type": "stream",
          "text": [
            "Shape:  (3, 3)\n",
            "Rank:  Tensor(\"Rank_1:0\", shape=(), dtype=int32)\n"
          ]
        }
      ],
      "source": [
        "print('Shape: ',test_tensor.shape)\n",
        "print('Rank: ',tf.rank(test_tensor))"
      ]
    },
    {
      "cell_type": "markdown",
      "metadata": {
        "id": "T-R-YjFXvrcQ"
      },
      "source": [
        "#### Reshaping a tensor"
      ]
    },
    {
      "cell_type": "code",
      "execution_count": 79,
      "metadata": {
        "id": "Z2QnYcQ1vtoH"
      },
      "outputs": [],
      "source": [
        "tensor = tf.ones([2,3]) # creates a tensor of 1 with 2 dimension and 3 elements"
      ]
    },
    {
      "cell_type": "code",
      "execution_count": 80,
      "metadata": {
        "colab": {
          "base_uri": "https://localhost:8080/"
        },
        "id": "V7pm2KxOv9LW",
        "outputId": "b995f8f4-20de-46e5-806a-f48a202d09c5"
      },
      "outputs": [
        {
          "name": "stdout",
          "output_type": "stream",
          "text": [
            "Tensor(\"ones:0\", shape=(2, 3), dtype=float32)\n"
          ]
        }
      ],
      "source": [
        "print(tensor)"
      ]
    },
    {
      "cell_type": "code",
      "execution_count": 81,
      "metadata": {
        "colab": {
          "base_uri": "https://localhost:8080/"
        },
        "id": "GSQedchSv-7B",
        "outputId": "20b10af7-0c2b-443b-8a32-15ad17ed02ca"
      },
      "outputs": [
        {
          "data": {
            "text/plain": [
              "<tf.Tensor 'Reshape:0' shape=(3, 2) dtype=float32>"
            ]
          },
          "execution_count": 81,
          "metadata": {},
          "output_type": "execute_result"
        }
      ],
      "source": [
        "tf.reshape(tensor,[3,2]) # total 6 elements so must be same"
      ]
    },
    {
      "cell_type": "code",
      "execution_count": 82,
      "metadata": {
        "colab": {
          "base_uri": "https://localhost:8080/"
        },
        "id": "7bFq-7bGwRGb",
        "outputId": "ddd998a6-cb3e-4464-8f17-0f2faa100cd7"
      },
      "outputs": [
        {
          "data": {
            "text/plain": [
              "<tf.Tensor 'Reshape_1:0' shape=(6, 1) dtype=float32>"
            ]
          },
          "execution_count": 82,
          "metadata": {},
          "output_type": "execute_result"
        }
      ],
      "source": [
        "tf.reshape(tensor,[6,-1])"
      ]
    },
    {
      "cell_type": "markdown",
      "metadata": {
        "id": "6dbywOBQyE3m"
      },
      "source": [
        "### Types of tensors\n",
        "\n",
        "- Variable\n",
        "- Constant\n",
        "- Placeholder\n",
        "- SparseTensor\n",
        "\n",
        "\n",
        "apart from ```Variable``` all others are immutable "
      ]
    },
    {
      "cell_type": "markdown",
      "metadata": {
        "id": "MDfPdig7zld8"
      },
      "source": [
        "#### Evaluating tensor "
      ]
    },
    {
      "cell_type": "code",
      "execution_count": 83,
      "metadata": {
        "colab": {
          "base_uri": "https://localhost:8080/"
        },
        "id": "D2AqN1HlyU7u",
        "outputId": "89152e5e-3252-4ac6-a69d-4daa319f76c9"
      },
      "outputs": [
        {
          "name": "stdout",
          "output_type": "stream",
          "text": [
            "<module 'tensorflow._api.v2.version' from '/usr/local/lib/python3.8/dist-packages/tensorflow/_api/v2/version/__init__.py'>\n"
          ]
        }
      ],
      "source": [
        "print(tf.version) # version must be 2 for eval "
      ]
    },
    {
      "cell_type": "code",
      "execution_count": 88,
      "metadata": {
        "colab": {
          "base_uri": "https://localhost:8080/"
        },
        "id": "9F16mwnN0UMM",
        "outputId": "d1775452-f906-4df8-d5a3-6da43986ae98"
      },
      "outputs": [
        {
          "name": "stdout",
          "output_type": "stream",
          "text": [
            "Tensor(\"ones:0\", shape=(2, 3), dtype=float32)\n"
          ]
        }
      ],
      "source": [
        "with tf.compat.v1.Session() as sess:\n",
        "  result = sess.run(tensor)\n",
        "  print(tensor)"
      ]
    }
  ],
  "metadata": {
    "colab": {
      "provenance": []
    },
    "kernelspec": {
      "display_name": "Python 3",
      "name": "python3"
    },
    "language_info": {
      "name": "python"
    }
  },
  "nbformat": 4,
  "nbformat_minor": 0
}
