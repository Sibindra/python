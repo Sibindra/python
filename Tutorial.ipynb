{
 "cells": [
  {
   "cell_type": "markdown",
   "id": "a2641be8",
   "metadata": {},
   "source": [
    "### first program"
   ]
  },
  {
   "cell_type": "code",
   "execution_count": 1,
   "id": "b2417a0c",
   "metadata": {},
   "outputs": [
    {
     "name": "stdout",
     "output_type": "stream",
     "text": [
      "Hello world\n"
     ]
    }
   ],
   "source": [
    "print(\"Hello world\")"
   ]
  },
  {
   "cell_type": "markdown",
   "id": "88ac083f",
   "metadata": {},
   "source": [
    "### variables"
   ]
  },
  {
   "cell_type": "code",
   "execution_count": 2,
   "id": "6df34ac4",
   "metadata": {},
   "outputs": [],
   "source": [
    "a=3"
   ]
  },
  {
   "cell_type": "markdown",
   "id": "196bca25",
   "metadata": {},
   "source": [
    "#### display memory usage "
   ]
  },
  {
   "cell_type": "code",
   "execution_count": 3,
   "id": "de840e56",
   "metadata": {},
   "outputs": [
    {
     "name": "stdout",
     "output_type": "stream",
     "text": [
      "Variable   Type    Data/Info\n",
      "----------------------------\n",
      "a          int     3\n"
     ]
    }
   ],
   "source": [
    "%whos "
   ]
  },
  {
   "cell_type": "markdown",
   "id": "0945acde",
   "metadata": {},
   "source": [
    "#### show the type of individual variable "
   ]
  },
  {
   "cell_type": "code",
   "execution_count": 4,
   "id": "b314210c",
   "metadata": {},
   "outputs": [
    {
     "name": "stdout",
     "output_type": "stream",
     "text": [
      "<class 'int'>\n"
     ]
    }
   ],
   "source": [
    "print(type(a))"
   ]
  },
  {
   "cell_type": "code",
   "execution_count": 5,
   "id": "5902cfb2",
   "metadata": {},
   "outputs": [],
   "source": [
    "a=1.25"
   ]
  },
  {
   "cell_type": "code",
   "execution_count": 6,
   "id": "c5b0a2d5",
   "metadata": {},
   "outputs": [
    {
     "name": "stdout",
     "output_type": "stream",
     "text": [
      "Variable   Type     Data/Info\n",
      "-----------------------------\n",
      "a          float    1.25\n"
     ]
    }
   ],
   "source": [
    "%whos"
   ]
  },
  {
   "cell_type": "code",
   "execution_count": 7,
   "id": "142a6abf",
   "metadata": {},
   "outputs": [],
   "source": [
    "b=\"str\""
   ]
  },
  {
   "cell_type": "code",
   "execution_count": 8,
   "id": "1ed7d333",
   "metadata": {},
   "outputs": [
    {
     "name": "stdout",
     "output_type": "stream",
     "text": [
      "Variable   Type     Data/Info\n",
      "-----------------------------\n",
      "a          float    1.25\n",
      "b          str      str\n"
     ]
    }
   ],
   "source": [
    "%whos"
   ]
  },
  {
   "cell_type": "markdown",
   "id": "5f0a824d",
   "metadata": {},
   "source": [
    "#### assignning multiple variables at once"
   ]
  },
  {
   "cell_type": "code",
   "execution_count": 9,
   "id": "a933e70f",
   "metadata": {},
   "outputs": [],
   "source": [
    "a,b=3.5,\"data\""
   ]
  },
  {
   "cell_type": "code",
   "execution_count": 10,
   "id": "db15ae5c",
   "metadata": {},
   "outputs": [
    {
     "name": "stdout",
     "output_type": "stream",
     "text": [
      "Variable   Type     Data/Info\n",
      "-----------------------------\n",
      "a          float    3.5\n",
      "b          str      data\n"
     ]
    }
   ],
   "source": [
    "%whos"
   ]
  },
  {
   "cell_type": "code",
   "execution_count": 11,
   "id": "90fb244b",
   "metadata": {},
   "outputs": [],
   "source": [
    "string=\"Hello world\""
   ]
  },
  {
   "cell_type": "code",
   "execution_count": 12,
   "id": "682e3ea7",
   "metadata": {
    "scrolled": true
   },
   "outputs": [
    {
     "name": "stdout",
     "output_type": "stream",
     "text": [
      "Hello world\n"
     ]
    }
   ],
   "source": [
    "print(string)"
   ]
  },
  {
   "cell_type": "markdown",
   "id": "ec801850",
   "metadata": {},
   "source": [
    "#### deleting the variable"
   ]
  },
  {
   "cell_type": "code",
   "execution_count": 13,
   "id": "e40f9e45",
   "metadata": {},
   "outputs": [],
   "source": [
    "del string"
   ]
  },
  {
   "cell_type": "code",
   "execution_count": 14,
   "id": "0892bac9",
   "metadata": {},
   "outputs": [
    {
     "ename": "NameError",
     "evalue": "name 'string' is not defined",
     "output_type": "error",
     "traceback": [
      "\u001b[1;31m---------------------------------------------------------------------------\u001b[0m",
      "\u001b[1;31mNameError\u001b[0m                                 Traceback (most recent call last)",
      "\u001b[1;32m~\\AppData\\Local\\Temp\\ipykernel_4388\\1504059527.py\u001b[0m in \u001b[0;36m<module>\u001b[1;34m\u001b[0m\n\u001b[1;32m----> 1\u001b[1;33m \u001b[0mprint\u001b[0m \u001b[1;33m(\u001b[0m\u001b[0mstring\u001b[0m\u001b[1;33m)\u001b[0m\u001b[1;33m\u001b[0m\u001b[1;33m\u001b[0m\u001b[0m\n\u001b[0m",
      "\u001b[1;31mNameError\u001b[0m: name 'string' is not defined"
     ]
    }
   ],
   "source": [
    "print (string)"
   ]
  },
  {
   "cell_type": "markdown",
   "id": "e2cd9a8a",
   "metadata": {},
   "source": [
    "#### basic operators"
   ]
  },
  {
   "cell_type": "code",
   "execution_count": null,
   "id": "5d98073d",
   "metadata": {},
   "outputs": [],
   "source": [
    "a=10\n",
    "b=3\n",
    "\n",
    "print(a+b) #addition\n",
    "print(a-b) #substraction\n",
    "print(a/b) #division\n",
    "print(a*b) #multiplication\n",
    "print(a%b) #mod\n"
   ]
  },
  {
   "cell_type": "markdown",
   "id": "e753b0dc",
   "metadata": {},
   "source": [
    "#### floor division"
   ]
  },
  {
   "cell_type": "markdown",
   "id": "edb1e4d1",
   "metadata": {},
   "source": [
    "$10 / 3=3.33333 \\newline 10 // 3=3$"
   ]
  },
  {
   "cell_type": "code",
   "execution_count": null,
   "id": "913f52eb",
   "metadata": {},
   "outputs": [],
   "source": [
    "print(a//b)"
   ]
  },
  {
   "cell_type": "markdown",
   "id": "308e491d",
   "metadata": {},
   "source": [
    "#### power"
   ]
  },
  {
   "cell_type": "markdown",
   "id": "a9807754",
   "metadata": {},
   "source": [
    "$10**3=10^3$"
   ]
  },
  {
   "cell_type": "code",
   "execution_count": null,
   "id": "8daf0932",
   "metadata": {},
   "outputs": [],
   "source": [
    "print(a**b)"
   ]
  },
  {
   "cell_type": "code",
   "execution_count": null,
   "id": "e796b146",
   "metadata": {},
   "outputs": [],
   "source": [
    "%whos"
   ]
  },
  {
   "cell_type": "markdown",
   "id": "ba2ec990",
   "metadata": {},
   "source": [
    "#### booleans "
   ]
  },
  {
   "cell_type": "code",
   "execution_count": null,
   "id": "1c915314",
   "metadata": {},
   "outputs": [],
   "source": [
    "a=True\n",
    "b=False"
   ]
  },
  {
   "cell_type": "markdown",
   "id": "2206c219",
   "metadata": {},
   "source": [
    "checks if a is true"
   ]
  },
  {
   "cell_type": "code",
   "execution_count": null,
   "id": "6ae452f2",
   "metadata": {},
   "outputs": [],
   "source": [
    "if(a):\n",
    "    print(\"a is true\")"
   ]
  },
  {
   "cell_type": "markdown",
   "id": "5ae0fd9d",
   "metadata": {},
   "source": [
    "checks if b is true"
   ]
  },
  {
   "cell_type": "code",
   "execution_count": null,
   "id": "4d50205e",
   "metadata": {},
   "outputs": [],
   "source": [
    "if(b):\n",
    "    print(\"b is true\")"
   ]
  },
  {
   "cell_type": "code",
   "execution_count": null,
   "id": "7c102ff9",
   "metadata": {},
   "outputs": [],
   "source": [
    "!a"
   ]
  },
  {
   "cell_type": "code",
   "execution_count": null,
   "id": "1fa9512a",
   "metadata": {},
   "outputs": [],
   "source": [
    "not(True)"
   ]
  },
  {
   "cell_type": "code",
   "execution_count": null,
   "id": "e1cbeb80",
   "metadata": {},
   "outputs": [],
   "source": [
    "if(!a):\n",
    "    print a"
   ]
  },
  {
   "cell_type": "markdown",
   "id": "9e6cf61b",
   "metadata": {},
   "source": [
    "#### logic operations"
   ]
  },
  {
   "cell_type": "markdown",
   "id": "a337ac59",
   "metadata": {},
   "source": [
    "true and false is false"
   ]
  },
  {
   "cell_type": "code",
   "execution_count": null,
   "id": "a99019ff",
   "metadata": {},
   "outputs": [],
   "source": [
    "print(a and b)"
   ]
  },
  {
   "cell_type": "markdown",
   "id": "8d548eca",
   "metadata": {},
   "source": [
    "true or false is true"
   ]
  },
  {
   "cell_type": "code",
   "execution_count": null,
   "id": "dcb49464",
   "metadata": {},
   "outputs": [],
   "source": [
    "print(a or b)"
   ]
  },
  {
   "cell_type": "code",
   "execution_count": null,
   "id": "31494f93",
   "metadata": {},
   "outputs": [],
   "source": [
    "(a and b) or not(b or a)"
   ]
  },
  {
   "cell_type": "markdown",
   "id": "4ea2e891",
   "metadata": {},
   "source": [
    "#### comparisons"
   ]
  },
  {
   "cell_type": "code",
   "execution_count": 16,
   "id": "e37ed3ab",
   "metadata": {},
   "outputs": [
    {
     "name": "stdout",
     "output_type": "stream",
     "text": [
      "True\n"
     ]
    }
   ],
   "source": [
    "print(3<4) #this gives boolean data type"
   ]
  },
  {
   "cell_type": "code",
   "execution_count": 1,
   "id": "5107f79e",
   "metadata": {},
   "outputs": [
    {
     "data": {
      "text/plain": [
       "bool"
      ]
     },
     "execution_count": 1,
     "metadata": {},
     "output_type": "execute_result"
    }
   ],
   "source": [
    "type(3<4)"
   ]
  },
  {
   "cell_type": "markdown",
   "id": "988ef653",
   "metadata": {},
   "source": [
    "### some  functions"
   ]
  },
  {
   "cell_type": "markdown",
   "id": "14000533",
   "metadata": {},
   "source": [
    "#### ```round()```"
   ]
  },
  {
   "cell_type": "markdown",
   "id": "c5d57feb",
   "metadata": {},
   "source": [
    "```round()``` converts a float to nearest integer"
   ]
  },
  {
   "cell_type": "code",
   "execution_count": 2,
   "id": "a781338e",
   "metadata": {},
   "outputs": [
    {
     "name": "stdout",
     "output_type": "stream",
     "text": [
      "4\n"
     ]
    }
   ],
   "source": [
    "a=round(3.7687)\n",
    "\n",
    "print(a)"
   ]
  },
  {
   "cell_type": "markdown",
   "id": "6e1f05aa",
   "metadata": {},
   "source": [
    "it can take 2 parameters as to round off upto nth number "
   ]
  },
  {
   "cell_type": "code",
   "execution_count": 3,
   "id": "cac41e60",
   "metadata": {},
   "outputs": [
    {
     "name": "stdout",
     "output_type": "stream",
     "text": [
      "3.278\n"
     ]
    }
   ],
   "source": [
    "a=round(3.2784, 3)\n",
    "\n",
    "print(a)"
   ]
  },
  {
   "cell_type": "markdown",
   "id": "16741b58",
   "metadata": {},
   "source": [
    "#### ```divmod()```"
   ]
  },
  {
   "cell_type": "markdown",
   "id": "2333dec9",
   "metadata": {},
   "source": [
    "```divmod()``` outputs quotent and remainder in **tuple**"
   ]
  },
  {
   "cell_type": "code",
   "execution_count": 5,
   "id": "b1d75d70",
   "metadata": {},
   "outputs": [
    {
     "name": "stdout",
     "output_type": "stream",
     "text": [
      "(5, 2)\n"
     ]
    }
   ],
   "source": [
    "a=divmod(27,5) #quotent=5 and remainder=2\n",
    "\n",
    "print(a)"
   ]
  },
  {
   "cell_type": "code",
   "execution_count": 6,
   "id": "d4da7542",
   "metadata": {},
   "outputs": [
    {
     "name": "stdout",
     "output_type": "stream",
     "text": [
      "Variable   Type     Data/Info\n",
      "-----------------------------\n",
      "a          tuple    n=2\n"
     ]
    }
   ],
   "source": [
    "%whos"
   ]
  },
  {
   "cell_type": "code",
   "execution_count": 7,
   "id": "9fd34772",
   "metadata": {},
   "outputs": [
    {
     "data": {
      "text/plain": [
       "5"
      ]
     },
     "execution_count": 7,
     "metadata": {},
     "output_type": "execute_result"
    }
   ],
   "source": [
    "a[0]"
   ]
  },
  {
   "cell_type": "code",
   "execution_count": 8,
   "id": "0c9f7817",
   "metadata": {},
   "outputs": [
    {
     "data": {
      "text/plain": [
       "2"
      ]
     },
     "execution_count": 8,
     "metadata": {},
     "output_type": "execute_result"
    }
   ],
   "source": [
    "a[1]"
   ]
  },
  {
   "cell_type": "markdown",
   "id": "59fffa2d",
   "metadata": {},
   "source": [
    "```isinstance()``` checks if the variable is a data type class or not"
   ]
  },
  {
   "cell_type": "code",
   "execution_count": 12,
   "id": "660781f9",
   "metadata": {},
   "outputs": [
    {
     "name": "stdout",
     "output_type": "stream",
     "text": [
      "False\n"
     ]
    }
   ],
   "source": [
    "print(isinstance(1.0,int))"
   ]
  },
  {
   "cell_type": "code",
   "execution_count": 13,
   "id": "af7371ff",
   "metadata": {},
   "outputs": [
    {
     "name": "stdout",
     "output_type": "stream",
     "text": [
      "True\n"
     ]
    }
   ],
   "source": [
    "print(isinstance(1.0,float))"
   ]
  },
  {
   "cell_type": "markdown",
   "id": "8645b840",
   "metadata": {},
   "source": [
    "#### ```isinstance()```"
   ]
  },
  {
   "cell_type": "markdown",
   "id": "cff0b439",
   "metadata": {},
   "source": [
    "checks if 3.4 is float or int"
   ]
  },
  {
   "cell_type": "code",
   "execution_count": 14,
   "id": "f544772a",
   "metadata": {},
   "outputs": [
    {
     "data": {
      "text/plain": [
       "True"
      ]
     },
     "execution_count": 14,
     "metadata": {},
     "output_type": "execute_result"
    }
   ],
   "source": [
    "isinstance(3.4,(float,int))"
   ]
  },
  {
   "cell_type": "markdown",
   "id": "6f96bbea",
   "metadata": {},
   "source": [
    "#### ```pow()```"
   ]
  },
  {
   "cell_type": "markdown",
   "id": "48f9fe7d",
   "metadata": {},
   "source": [
    "```pow()``` takes three args as "
   ]
  },
  {
   "cell_type": "code",
   "execution_count": 15,
   "id": "d9f5a84c",
   "metadata": {},
   "outputs": [
    {
     "data": {
      "text/plain": [
       "16"
      ]
     },
     "execution_count": 15,
     "metadata": {},
     "output_type": "execute_result"
    }
   ],
   "source": [
    "pow(2,4)"
   ]
  },
  {
   "cell_type": "code",
   "execution_count": 16,
   "id": "d594f70e",
   "metadata": {},
   "outputs": [
    {
     "data": {
      "text/plain": [
       "2"
      ]
     },
     "execution_count": 16,
     "metadata": {},
     "output_type": "execute_result"
    }
   ],
   "source": [
    "pow(2,4,7) #2^4%7"
   ]
  },
  {
   "cell_type": "markdown",
   "id": "979785dc",
   "metadata": {},
   "source": [
    "#### ```input()```"
   ]
  },
  {
   "cell_type": "markdown",
   "id": "879262b1",
   "metadata": {},
   "source": [
    "```input()``` function is used to take uder input from prompt"
   ]
  },
  {
   "cell_type": "code",
   "execution_count": 1,
   "id": "5804e922",
   "metadata": {},
   "outputs": [
    {
     "name": "stdout",
     "output_type": "stream",
     "text": [
      "Enter a number: 10\n"
     ]
    }
   ],
   "source": [
    "x=input(\"Enter a number: \")"
   ]
  },
  {
   "cell_type": "code",
   "execution_count": 2,
   "id": "2846bc1b",
   "metadata": {},
   "outputs": [
    {
     "data": {
      "text/plain": [
       "'10'"
      ]
     },
     "execution_count": 2,
     "metadata": {},
     "output_type": "execute_result"
    }
   ],
   "source": [
    "x"
   ]
  },
  {
   "cell_type": "markdown",
   "id": "262e23ce",
   "metadata": {},
   "source": [
    "but the value is stored as **str**"
   ]
  },
  {
   "cell_type": "code",
   "execution_count": 4,
   "id": "14500bf5",
   "metadata": {},
   "outputs": [
    {
     "data": {
      "text/plain": [
       "str"
      ]
     },
     "execution_count": 4,
     "metadata": {},
     "output_type": "execute_result"
    }
   ],
   "source": [
    "type(x)"
   ]
  },
  {
   "cell_type": "markdown",
   "id": "dab5b8be",
   "metadata": {},
   "source": [
    "it can be converted to int as"
   ]
  },
  {
   "cell_type": "code",
   "execution_count": 5,
   "id": "f40d4176",
   "metadata": {},
   "outputs": [],
   "source": [
    "x=int(x)"
   ]
  },
  {
   "cell_type": "code",
   "execution_count": 6,
   "id": "7dcdb7a1",
   "metadata": {},
   "outputs": [
    {
     "data": {
      "text/plain": [
       "int"
      ]
     },
     "execution_count": 6,
     "metadata": {},
     "output_type": "execute_result"
    }
   ],
   "source": [
    "type(x)"
   ]
  },
  {
   "cell_type": "code",
   "execution_count": 8,
   "id": "adacd256",
   "metadata": {},
   "outputs": [
    {
     "name": "stdout",
     "output_type": "stream",
     "text": [
      "Enter a decimal value:10.5\n"
     ]
    }
   ],
   "source": [
    "y=float(input(\"Enter a decimal value:\"))"
   ]
  },
  {
   "cell_type": "code",
   "execution_count": 9,
   "id": "27a06a3b",
   "metadata": {},
   "outputs": [
    {
     "data": {
      "text/plain": [
       "float"
      ]
     },
     "execution_count": 9,
     "metadata": {},
     "output_type": "execute_result"
    }
   ],
   "source": [
    "type(y)"
   ]
  },
  {
   "cell_type": "markdown",
   "id": "cb00d635",
   "metadata": {},
   "source": [
    "#### using documentation for built in functions"
   ]
  },
  {
   "cell_type": "code",
   "execution_count": 10,
   "id": "d944c343",
   "metadata": {},
   "outputs": [],
   "source": [
    "pow?"
   ]
  },
  {
   "cell_type": "code",
   "execution_count": 12,
   "id": "c34d9b4a",
   "metadata": {},
   "outputs": [
    {
     "name": "stdout",
     "output_type": "stream",
     "text": [
      "Help on built-in function pow in module builtins:\n",
      "\n",
      "pow(base, exp, mod=None)\n",
      "    Equivalent to base**exp with 2 arguments or base**exp % mod with 3 arguments\n",
      "    \n",
      "    Some types, such as ints, are able to use a more efficient algorithm when\n",
      "    invoked using the three argument form.\n",
      "\n"
     ]
    }
   ],
   "source": [
    "help(pow)"
   ]
  },
  {
   "cell_type": "markdown",
   "id": "ad5be1e9",
   "metadata": {},
   "source": [
    "### control flow (if condition)"
   ]
  },
  {
   "cell_type": "code",
   "execution_count": 16,
   "id": "eb67e354",
   "metadata": {},
   "outputs": [
    {
     "name": "stdout",
     "output_type": "stream",
     "text": [
      "Enter a: 10\n",
      "Enter b: 10\n",
      "10  is equal to  10\n"
     ]
    }
   ],
   "source": [
    "a=int(input(\"Enter a: \"))\n",
    "b=int(input(\"Enter b: \"))\n",
    "\n",
    "if(a>b):\n",
    "    print(a,\" is greater than\",b )\n",
    "elif a==b:\n",
    "    print(a,\" is equal to \",b)\n",
    "else:\n",
    "    print(b,\" is greater than \",a)"
   ]
  },
  {
   "cell_type": "markdown",
   "id": "90d12954",
   "metadata": {},
   "source": [
    "python code to take a float no and convert to int and check if it is even or not "
   ]
  },
  {
   "cell_type": "code",
   "execution_count": 3,
   "id": "0e12c637",
   "metadata": {},
   "outputs": [
    {
     "name": "stdout",
     "output_type": "stream",
     "text": [
      "Enter a: 13.1\n",
      "odd\n"
     ]
    }
   ],
   "source": [
    "a=float((input(\"Enter a: \")))\n",
    "\n",
    "a=round(a)\n",
    "\n",
    "\n",
    "if(a%2==0):\n",
    "    print(\"Even\")\n",
    "else:\n",
    "    print(\"odd\")\n"
   ]
  },
  {
   "cell_type": "markdown",
   "id": "1fb9e0e8",
   "metadata": {},
   "source": [
    "#### while loop"
   ]
  },
  {
   "cell_type": "code",
   "execution_count": 6,
   "id": "a55e8dfd",
   "metadata": {},
   "outputs": [
    {
     "name": "stdout",
     "output_type": "stream",
     "text": [
      "1\n",
      "2\n",
      "3\n",
      "4\n",
      "5\n"
     ]
    }
   ],
   "source": [
    "i=1\n",
    "\n",
    "while(i<=5):\n",
    "    print(i)\n",
    "    i+=1"
   ]
  },
  {
   "cell_type": "markdown",
   "id": "00903492",
   "metadata": {},
   "source": [
    "#### break and continue statements"
   ]
  },
  {
   "cell_type": "markdown",
   "id": "5a5b9f57",
   "metadata": {},
   "source": [
    "**break:** moves the control flow out of the loop \n",
    "\n",
    "\n",
    "**continue:** moves the control flow to skip the current iteration and go to next loop iteration"
   ]
  },
  {
   "cell_type": "code",
   "execution_count": 26,
   "id": "0f4a26e5",
   "metadata": {},
   "outputs": [
    {
     "name": "stdout",
     "output_type": "stream",
     "text": [
      "7 X 1 =  7\n",
      "7 X 2 =  14\n",
      "7 X 3 =  21\n",
      "7 X 4 =  28\n",
      "7 X 5 =  35\n",
      "7 X 6 =  42\n",
      "7 X 7 =  49\n",
      "7 X 8 =  56\n",
      "7 X 9 =  63\n",
      "7 X 10 =  70\n"
     ]
    }
   ],
   "source": [
    "for i in range(limit+1):\n",
    "    \n",
    "    \n",
    "    \n",
    "    if(i==0):\n",
    "        continue #skips the iteration where i=0\n",
    "    else:\n",
    "        print(n,\"X\", i, \"= \", n*i)\n",
    "        \n",
    "    i += 1\n",
    "    \n",
    "    "
   ]
  },
  {
   "cell_type": "markdown",
   "id": "46a6c75b",
   "metadata": {},
   "source": [
    "**EXAMPLE PROGRAM:** print only the elements that are divisible by 3"
   ]
  },
  {
   "cell_type": "code",
   "execution_count": 3,
   "id": "661603b8",
   "metadata": {},
   "outputs": [
    {
     "name": "stdout",
     "output_type": "stream",
     "text": [
      "Enter the limit: 10\n",
      "3\n",
      "6\n",
      "9\n"
     ]
    }
   ],
   "source": [
    "limit=int(input(\"Enter the limit: \"))\n",
    "\n",
    "i=1\n",
    "\n",
    "while (i<=limit):\n",
    "    if (i%3==0):\n",
    "        print(i)\n",
    "    \n",
    "    i+=1\n",
    "        \n"
   ]
  },
  {
   "cell_type": "markdown",
   "id": "85dfcdee",
   "metadata": {},
   "source": [
    "**EXAMPLE PROGRAM** program to print the multiplication table of any number upto 10"
   ]
  },
  {
   "cell_type": "code",
   "execution_count": 11,
   "id": "911bb3f0",
   "metadata": {},
   "outputs": [
    {
     "name": "stdout",
     "output_type": "stream",
     "text": [
      "Enter the number: 7\n",
      "7 X 1 =  7\n",
      "7 X 2 =  14\n",
      "7 X 3 =  21\n",
      "7 X 4 =  28\n",
      "7 X 5 =  35\n",
      "7 X 6 =  42\n",
      "7 X 7 =  49\n",
      "7 X 8 =  56\n",
      "7 X 9 =  63\n",
      "7 X 10 =  70\n"
     ]
    }
   ],
   "source": [
    "n = int(input(\"Enter the number: \"))\n",
    "\n",
    "limit = 10\n",
    "i = 1\n",
    "\n",
    "while i <= limit:\n",
    "    print(n,\"X\", i, \"= \", n*i)\n",
    "    i += 1\n",
    "\n",
    "        "
   ]
  },
  {
   "cell_type": "markdown",
   "id": "0a708590",
   "metadata": {},
   "source": [
    "**FOR LOOP**"
   ]
  },
  {
   "cell_type": "markdown",
   "id": "d026af77",
   "metadata": {},
   "source": [
    "start from 1 to 11 by taking 1 iteration next each time"
   ]
  },
  {
   "cell_type": "code",
   "execution_count": 31,
   "id": "35f5874d",
   "metadata": {},
   "outputs": [
    {
     "name": "stdout",
     "output_type": "stream",
     "text": [
      "1\n",
      "2\n",
      "3\n",
      "4\n",
      "5\n",
      "6\n",
      "7\n",
      "8\n",
      "9\n",
      "10\n"
     ]
    }
   ],
   "source": [
    "for i in range(1,11,1):\n",
    "    print(i)"
   ]
  },
  {
   "cell_type": "markdown",
   "id": "cd4373ca",
   "metadata": {},
   "source": [
    "else part in **FOR LOOP** in python"
   ]
  },
  {
   "cell_type": "code",
   "execution_count": 43,
   "id": "a895149a",
   "metadata": {},
   "outputs": [
    {
     "name": "stdout",
     "output_type": "stream",
     "text": [
      "Sita\n",
      "Ram\n",
      "Loop completed\n"
     ]
    }
   ],
   "source": [
    "set={\"Ram\",\"Hari\",\"Sita\"}\n",
    "\n",
    "for i in set:\n",
    "    #skip Hari\n",
    "    if(i==\"Hari\"):\n",
    "        continue\n",
    "        \n",
    "    print(i)\n",
    "        #break\n",
    "# else portion in for loop is executed after loop complete\n",
    "else:\n",
    "    print(\"Loop completed\")"
   ]
  },
  {
   "cell_type": "markdown",
   "id": "69d4b1fe",
   "metadata": {},
   "source": [
    "### Dictionary"
   ]
  },
  {
   "cell_type": "markdown",
   "id": "0e2b5bb8",
   "metadata": {},
   "source": [
    "it is a data type in python where there is a key:value"
   ]
  },
  {
   "cell_type": "code",
   "execution_count": 44,
   "id": "4a49ef5e",
   "metadata": {},
   "outputs": [
    {
     "name": "stdout",
     "output_type": "stream",
     "text": [
      "{'A': 10, 'B': 20, 'C': 'Ram'}\n"
     ]
    }
   ],
   "source": [
    "D={\"A\":10,\"B\":20,\"C\":\"Ram\"}\n",
    "\n",
    "print(D)"
   ]
  },
  {
   "cell_type": "markdown",
   "id": "c8a1bf69",
   "metadata": {},
   "source": [
    "**printing values**"
   ]
  },
  {
   "cell_type": "code",
   "execution_count": 48,
   "id": "0b8fad2e",
   "metadata": {},
   "outputs": [
    {
     "name": "stdout",
     "output_type": "stream",
     "text": [
      "10\n",
      "20\n",
      "Ram\n"
     ]
    }
   ],
   "source": [
    "for i in D:\n",
    "    print(D[i])"
   ]
  },
  {
   "cell_type": "markdown",
   "id": "5d567b3f",
   "metadata": {},
   "source": [
    "**printing keys**"
   ]
  },
  {
   "cell_type": "code",
   "execution_count": 49,
   "id": "a39b7d46",
   "metadata": {},
   "outputs": [
    {
     "name": "stdout",
     "output_type": "stream",
     "text": [
      "A\n",
      "B\n",
      "C\n"
     ]
    }
   ],
   "source": [
    "for i in D:\n",
    "    print(i)"
   ]
  },
  {
   "cell_type": "markdown",
   "id": "0023b60b",
   "metadata": {},
   "source": [
    "**practice:** take a list of numbers and sort the elements and add it to next list"
   ]
  },
  {
   "cell_type": "code",
   "execution_count": 14,
   "id": "69e5ac03",
   "metadata": {},
   "outputs": [
    {
     "name": "stdout",
     "output_type": "stream",
     "text": [
      "-5 3\n"
     ]
    }
   ],
   "source": [
    "List=[1,2,4,-5,7,9,3,2]\n",
    "\n",
    "m=L[0]\n",
    "index=0\n",
    "count =0\n",
    "\n",
    "for i in List:\n",
    "    if(i<m):\n",
    "        m=i\n",
    "        index=count \n",
    "    \n",
    "    count+=1\n",
    "\n",
    "print(m,index)\n",
    "    \n",
    "    "
   ]
  },
  {
   "cell_type": "code",
   "execution_count": null,
   "id": "58648525",
   "metadata": {},
   "outputs": [],
   "source": []
  }
 ],
 "metadata": {
  "kernelspec": {
   "display_name": "Python 3 (ipykernel)",
   "language": "python",
   "name": "python3"
  },
  "language_info": {
   "codemirror_mode": {
    "name": "ipython",
    "version": 3
   },
   "file_extension": ".py",
   "mimetype": "text/x-python",
   "name": "python",
   "nbconvert_exporter": "python",
   "pygments_lexer": "ipython3",
   "version": "3.9.13"
  }
 },
 "nbformat": 4,
 "nbformat_minor": 5
}
