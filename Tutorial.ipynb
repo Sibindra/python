{
 "cells": [
  {
   "cell_type": "markdown",
   "id": "a2641be8",
   "metadata": {},
   "source": [
    "### first program"
   ]
  },
  {
   "cell_type": "code",
   "execution_count": 1,
   "id": "b2417a0c",
   "metadata": {},
   "outputs": [
    {
     "name": "stdout",
     "output_type": "stream",
     "text": [
      "Hello world\n"
     ]
    }
   ],
   "source": [
    "print(\"Hello world\")"
   ]
  },
  {
   "cell_type": "markdown",
   "id": "88ac083f",
   "metadata": {},
   "source": [
    "### variables"
   ]
  },
  {
   "cell_type": "code",
   "execution_count": 2,
   "id": "6df34ac4",
   "metadata": {},
   "outputs": [],
   "source": [
    "a=3"
   ]
  },
  {
   "cell_type": "markdown",
   "id": "196bca25",
   "metadata": {},
   "source": [
    "#### display memory usage "
   ]
  },
  {
   "cell_type": "code",
   "execution_count": 3,
   "id": "de840e56",
   "metadata": {},
   "outputs": [
    {
     "name": "stdout",
     "output_type": "stream",
     "text": [
      "Variable   Type    Data/Info\n",
      "----------------------------\n",
      "a          int     3\n"
     ]
    }
   ],
   "source": [
    "%whos "
   ]
  },
  {
   "cell_type": "markdown",
   "id": "0945acde",
   "metadata": {},
   "source": [
    "#### show the type of individual variable "
   ]
  },
  {
   "cell_type": "code",
   "execution_count": 4,
   "id": "b314210c",
   "metadata": {},
   "outputs": [
    {
     "name": "stdout",
     "output_type": "stream",
     "text": [
      "<class 'int'>\n"
     ]
    }
   ],
   "source": [
    "print(type(a))"
   ]
  },
  {
   "cell_type": "code",
   "execution_count": 5,
   "id": "5902cfb2",
   "metadata": {},
   "outputs": [],
   "source": [
    "a=1.25"
   ]
  },
  {
   "cell_type": "code",
   "execution_count": 6,
   "id": "c5b0a2d5",
   "metadata": {},
   "outputs": [
    {
     "name": "stdout",
     "output_type": "stream",
     "text": [
      "Variable   Type     Data/Info\n",
      "-----------------------------\n",
      "a          float    1.25\n"
     ]
    }
   ],
   "source": [
    "%whos"
   ]
  },
  {
   "cell_type": "code",
   "execution_count": 7,
   "id": "142a6abf",
   "metadata": {},
   "outputs": [],
   "source": [
    "b=\"str\""
   ]
  },
  {
   "cell_type": "code",
   "execution_count": 8,
   "id": "1ed7d333",
   "metadata": {},
   "outputs": [
    {
     "name": "stdout",
     "output_type": "stream",
     "text": [
      "Variable   Type     Data/Info\n",
      "-----------------------------\n",
      "a          float    1.25\n",
      "b          str      str\n"
     ]
    }
   ],
   "source": [
    "%whos"
   ]
  },
  {
   "cell_type": "markdown",
   "id": "5f0a824d",
   "metadata": {},
   "source": [
    "#### assignning multiple variables at once"
   ]
  },
  {
   "cell_type": "code",
   "execution_count": 9,
   "id": "a933e70f",
   "metadata": {},
   "outputs": [],
   "source": [
    "a,b=3.5,\"data\""
   ]
  },
  {
   "cell_type": "code",
   "execution_count": 10,
   "id": "db15ae5c",
   "metadata": {},
   "outputs": [
    {
     "name": "stdout",
     "output_type": "stream",
     "text": [
      "Variable   Type     Data/Info\n",
      "-----------------------------\n",
      "a          float    3.5\n",
      "b          str      data\n"
     ]
    }
   ],
   "source": [
    "%whos"
   ]
  },
  {
   "cell_type": "code",
   "execution_count": 11,
   "id": "90fb244b",
   "metadata": {},
   "outputs": [],
   "source": [
    "string=\"Hello world\""
   ]
  },
  {
   "cell_type": "code",
   "execution_count": 12,
   "id": "682e3ea7",
   "metadata": {
    "scrolled": true
   },
   "outputs": [
    {
     "name": "stdout",
     "output_type": "stream",
     "text": [
      "Hello world\n"
     ]
    }
   ],
   "source": [
    "print(string)"
   ]
  },
  {
   "cell_type": "markdown",
   "id": "ec801850",
   "metadata": {},
   "source": [
    "#### deleting the variable"
   ]
  },
  {
   "cell_type": "code",
   "execution_count": 13,
   "id": "e40f9e45",
   "metadata": {},
   "outputs": [],
   "source": [
    "del string"
   ]
  },
  {
   "cell_type": "code",
   "execution_count": 14,
   "id": "0892bac9",
   "metadata": {},
   "outputs": [
    {
     "ename": "NameError",
     "evalue": "name 'string' is not defined",
     "output_type": "error",
     "traceback": [
      "\u001b[1;31m---------------------------------------------------------------------------\u001b[0m",
      "\u001b[1;31mNameError\u001b[0m                                 Traceback (most recent call last)",
      "\u001b[1;32m~\\AppData\\Local\\Temp\\ipykernel_4388\\1504059527.py\u001b[0m in \u001b[0;36m<module>\u001b[1;34m\u001b[0m\n\u001b[1;32m----> 1\u001b[1;33m \u001b[0mprint\u001b[0m \u001b[1;33m(\u001b[0m\u001b[0mstring\u001b[0m\u001b[1;33m)\u001b[0m\u001b[1;33m\u001b[0m\u001b[1;33m\u001b[0m\u001b[0m\n\u001b[0m",
      "\u001b[1;31mNameError\u001b[0m: name 'string' is not defined"
     ]
    }
   ],
   "source": [
    "print (string)"
   ]
  },
  {
   "cell_type": "markdown",
   "id": "e2cd9a8a",
   "metadata": {},
   "source": [
    "#### basic operators"
   ]
  },
  {
   "cell_type": "code",
   "execution_count": null,
   "id": "5d98073d",
   "metadata": {},
   "outputs": [],
   "source": [
    "a=10\n",
    "b=3\n",
    "\n",
    "print(a+b) #addition\n",
    "print(a-b) #substraction\n",
    "print(a/b) #division\n",
    "print(a*b) #multiplication\n",
    "print(a%b) #mod\n"
   ]
  },
  {
   "cell_type": "markdown",
   "id": "e753b0dc",
   "metadata": {},
   "source": [
    "#### floor division"
   ]
  },
  {
   "cell_type": "markdown",
   "id": "edb1e4d1",
   "metadata": {},
   "source": [
    "$10 / 3=3.33333 \\newline 10 // 3=3$"
   ]
  },
  {
   "cell_type": "code",
   "execution_count": null,
   "id": "913f52eb",
   "metadata": {},
   "outputs": [],
   "source": [
    "print(a//b)"
   ]
  },
  {
   "cell_type": "markdown",
   "id": "308e491d",
   "metadata": {},
   "source": [
    "#### power"
   ]
  },
  {
   "cell_type": "markdown",
   "id": "a9807754",
   "metadata": {},
   "source": [
    "$10**3=10^3$"
   ]
  },
  {
   "cell_type": "code",
   "execution_count": null,
   "id": "8daf0932",
   "metadata": {},
   "outputs": [],
   "source": [
    "print(a**b)"
   ]
  },
  {
   "cell_type": "code",
   "execution_count": null,
   "id": "e796b146",
   "metadata": {},
   "outputs": [],
   "source": [
    "%whos"
   ]
  },
  {
   "cell_type": "markdown",
   "id": "ba2ec990",
   "metadata": {},
   "source": [
    "#### booleans "
   ]
  },
  {
   "cell_type": "code",
   "execution_count": null,
   "id": "1c915314",
   "metadata": {},
   "outputs": [],
   "source": [
    "a=True\n",
    "b=False"
   ]
  },
  {
   "cell_type": "markdown",
   "id": "2206c219",
   "metadata": {},
   "source": [
    "checks if a is true"
   ]
  },
  {
   "cell_type": "code",
   "execution_count": null,
   "id": "6ae452f2",
   "metadata": {},
   "outputs": [],
   "source": [
    "if(a):\n",
    "    print(\"a is true\")"
   ]
  },
  {
   "cell_type": "markdown",
   "id": "5ae0fd9d",
   "metadata": {},
   "source": [
    "checks if b is true"
   ]
  },
  {
   "cell_type": "code",
   "execution_count": null,
   "id": "4d50205e",
   "metadata": {},
   "outputs": [],
   "source": [
    "if(b):\n",
    "    print(\"b is true\")"
   ]
  },
  {
   "cell_type": "code",
   "execution_count": null,
   "id": "7c102ff9",
   "metadata": {},
   "outputs": [],
   "source": [
    "!a"
   ]
  },
  {
   "cell_type": "code",
   "execution_count": null,
   "id": "1fa9512a",
   "metadata": {},
   "outputs": [],
   "source": [
    "not(True)"
   ]
  },
  {
   "cell_type": "code",
   "execution_count": null,
   "id": "e1cbeb80",
   "metadata": {},
   "outputs": [],
   "source": [
    "if(!a):\n",
    "    print a"
   ]
  },
  {
   "cell_type": "markdown",
   "id": "9e6cf61b",
   "metadata": {},
   "source": [
    "#### logic operations"
   ]
  },
  {
   "cell_type": "markdown",
   "id": "a337ac59",
   "metadata": {},
   "source": [
    "true and false is false"
   ]
  },
  {
   "cell_type": "code",
   "execution_count": null,
   "id": "a99019ff",
   "metadata": {},
   "outputs": [],
   "source": [
    "print(a and b)"
   ]
  },
  {
   "cell_type": "markdown",
   "id": "8d548eca",
   "metadata": {},
   "source": [
    "true or false is true"
   ]
  },
  {
   "cell_type": "code",
   "execution_count": null,
   "id": "dcb49464",
   "metadata": {},
   "outputs": [],
   "source": [
    "print(a or b)"
   ]
  },
  {
   "cell_type": "code",
   "execution_count": null,
   "id": "31494f93",
   "metadata": {},
   "outputs": [],
   "source": [
    "(a and b) or not(b or a)"
   ]
  },
  {
   "cell_type": "markdown",
   "id": "4ea2e891",
   "metadata": {},
   "source": [
    "#### comparisons"
   ]
  },
  {
   "cell_type": "code",
   "execution_count": 16,
   "id": "e37ed3ab",
   "metadata": {},
   "outputs": [
    {
     "name": "stdout",
     "output_type": "stream",
     "text": [
      "True\n"
     ]
    }
   ],
   "source": [
    "print(3<4) #this gives boolean data type"
   ]
  },
  {
   "cell_type": "code",
   "execution_count": 1,
   "id": "5107f79e",
   "metadata": {},
   "outputs": [
    {
     "data": {
      "text/plain": [
       "bool"
      ]
     },
     "execution_count": 1,
     "metadata": {},
     "output_type": "execute_result"
    }
   ],
   "source": [
    "type(3<4)"
   ]
  },
  {
   "cell_type": "markdown",
   "id": "988ef653",
   "metadata": {},
   "source": [
    "### some  functions"
   ]
  },
  {
   "cell_type": "markdown",
   "id": "14000533",
   "metadata": {},
   "source": [
    "#### ```round()```"
   ]
  },
  {
   "cell_type": "markdown",
   "id": "c5d57feb",
   "metadata": {},
   "source": [
    "```round()``` converts a float to nearest integer"
   ]
  },
  {
   "cell_type": "code",
   "execution_count": 2,
   "id": "a781338e",
   "metadata": {},
   "outputs": [
    {
     "name": "stdout",
     "output_type": "stream",
     "text": [
      "4\n"
     ]
    }
   ],
   "source": [
    "a=round(3.7687)\n",
    "\n",
    "print(a)"
   ]
  },
  {
   "cell_type": "markdown",
   "id": "6e1f05aa",
   "metadata": {},
   "source": [
    "it can take 2 parameters as to round off upto nth number "
   ]
  },
  {
   "cell_type": "code",
   "execution_count": 3,
   "id": "cac41e60",
   "metadata": {},
   "outputs": [
    {
     "name": "stdout",
     "output_type": "stream",
     "text": [
      "3.278\n"
     ]
    }
   ],
   "source": [
    "a=round(3.2784, 3)\n",
    "\n",
    "print(a)"
   ]
  },
  {
   "cell_type": "markdown",
   "id": "16741b58",
   "metadata": {},
   "source": [
    "#### ```divmod()```"
   ]
  },
  {
   "cell_type": "markdown",
   "id": "2333dec9",
   "metadata": {},
   "source": [
    "```divmod()``` outputs quotent and remainder in **tuple**"
   ]
  },
  {
   "cell_type": "code",
   "execution_count": 5,
   "id": "b1d75d70",
   "metadata": {},
   "outputs": [
    {
     "name": "stdout",
     "output_type": "stream",
     "text": [
      "(5, 2)\n"
     ]
    }
   ],
   "source": [
    "a=divmod(27,5) #quotent=5 and remainder=2\n",
    "\n",
    "print(a)"
   ]
  },
  {
   "cell_type": "code",
   "execution_count": 6,
   "id": "d4da7542",
   "metadata": {},
   "outputs": [
    {
     "name": "stdout",
     "output_type": "stream",
     "text": [
      "Variable   Type     Data/Info\n",
      "-----------------------------\n",
      "a          tuple    n=2\n"
     ]
    }
   ],
   "source": [
    "%whos"
   ]
  },
  {
   "cell_type": "code",
   "execution_count": 7,
   "id": "9fd34772",
   "metadata": {},
   "outputs": [
    {
     "data": {
      "text/plain": [
       "5"
      ]
     },
     "execution_count": 7,
     "metadata": {},
     "output_type": "execute_result"
    }
   ],
   "source": [
    "a[0]"
   ]
  },
  {
   "cell_type": "code",
   "execution_count": 8,
   "id": "0c9f7817",
   "metadata": {},
   "outputs": [
    {
     "data": {
      "text/plain": [
       "2"
      ]
     },
     "execution_count": 8,
     "metadata": {},
     "output_type": "execute_result"
    }
   ],
   "source": [
    "a[1]"
   ]
  },
  {
   "cell_type": "markdown",
   "id": "59fffa2d",
   "metadata": {},
   "source": [
    "```isinstance()``` checks if the variable is a data type class or not"
   ]
  },
  {
   "cell_type": "code",
   "execution_count": 12,
   "id": "660781f9",
   "metadata": {},
   "outputs": [
    {
     "name": "stdout",
     "output_type": "stream",
     "text": [
      "False\n"
     ]
    }
   ],
   "source": [
    "print(isinstance(1.0,int))"
   ]
  },
  {
   "cell_type": "code",
   "execution_count": 13,
   "id": "af7371ff",
   "metadata": {},
   "outputs": [
    {
     "name": "stdout",
     "output_type": "stream",
     "text": [
      "True\n"
     ]
    }
   ],
   "source": [
    "print(isinstance(1.0,float))"
   ]
  },
  {
   "cell_type": "markdown",
   "id": "8645b840",
   "metadata": {},
   "source": [
    "#### ```isinstance()```"
   ]
  },
  {
   "cell_type": "markdown",
   "id": "cff0b439",
   "metadata": {},
   "source": [
    "checks if 3.4 is float or int"
   ]
  },
  {
   "cell_type": "code",
   "execution_count": 14,
   "id": "f544772a",
   "metadata": {},
   "outputs": [
    {
     "data": {
      "text/plain": [
       "True"
      ]
     },
     "execution_count": 14,
     "metadata": {},
     "output_type": "execute_result"
    }
   ],
   "source": [
    "isinstance(3.4,(float,int))"
   ]
  },
  {
   "cell_type": "markdown",
   "id": "6f96bbea",
   "metadata": {},
   "source": [
    "#### ```pow()```"
   ]
  },
  {
   "cell_type": "markdown",
   "id": "48f9fe7d",
   "metadata": {},
   "source": [
    "```pow()``` takes three args as "
   ]
  },
  {
   "cell_type": "code",
   "execution_count": 15,
   "id": "d9f5a84c",
   "metadata": {},
   "outputs": [
    {
     "data": {
      "text/plain": [
       "16"
      ]
     },
     "execution_count": 15,
     "metadata": {},
     "output_type": "execute_result"
    }
   ],
   "source": [
    "pow(2,4)"
   ]
  },
  {
   "cell_type": "code",
   "execution_count": 16,
   "id": "d594f70e",
   "metadata": {},
   "outputs": [
    {
     "data": {
      "text/plain": [
       "2"
      ]
     },
     "execution_count": 16,
     "metadata": {},
     "output_type": "execute_result"
    }
   ],
   "source": [
    "pow(2,4,7) #2^4%7"
   ]
  },
  {
   "cell_type": "markdown",
   "id": "979785dc",
   "metadata": {},
   "source": [
    "#### ```input()```"
   ]
  },
  {
   "cell_type": "markdown",
   "id": "879262b1",
   "metadata": {},
   "source": [
    "```input()``` function is used to take uder input from prompt"
   ]
  },
  {
   "cell_type": "code",
   "execution_count": 1,
   "id": "5804e922",
   "metadata": {},
   "outputs": [
    {
     "name": "stdout",
     "output_type": "stream",
     "text": [
      "Enter a number: 10\n"
     ]
    }
   ],
   "source": [
    "x=input(\"Enter a number: \")"
   ]
  },
  {
   "cell_type": "code",
   "execution_count": 2,
   "id": "2846bc1b",
   "metadata": {},
   "outputs": [
    {
     "data": {
      "text/plain": [
       "'10'"
      ]
     },
     "execution_count": 2,
     "metadata": {},
     "output_type": "execute_result"
    }
   ],
   "source": [
    "x"
   ]
  },
  {
   "cell_type": "markdown",
   "id": "262e23ce",
   "metadata": {},
   "source": [
    "but the value is stored as **str**"
   ]
  },
  {
   "cell_type": "code",
   "execution_count": 4,
   "id": "14500bf5",
   "metadata": {},
   "outputs": [
    {
     "data": {
      "text/plain": [
       "str"
      ]
     },
     "execution_count": 4,
     "metadata": {},
     "output_type": "execute_result"
    }
   ],
   "source": [
    "type(x)"
   ]
  },
  {
   "cell_type": "markdown",
   "id": "dab5b8be",
   "metadata": {},
   "source": [
    "it can be converted to int as"
   ]
  },
  {
   "cell_type": "code",
   "execution_count": 5,
   "id": "f40d4176",
   "metadata": {},
   "outputs": [],
   "source": [
    "x=int(x)"
   ]
  },
  {
   "cell_type": "code",
   "execution_count": 6,
   "id": "7dcdb7a1",
   "metadata": {},
   "outputs": [
    {
     "data": {
      "text/plain": [
       "int"
      ]
     },
     "execution_count": 6,
     "metadata": {},
     "output_type": "execute_result"
    }
   ],
   "source": [
    "type(x)"
   ]
  },
  {
   "cell_type": "code",
   "execution_count": 8,
   "id": "adacd256",
   "metadata": {},
   "outputs": [
    {
     "name": "stdout",
     "output_type": "stream",
     "text": [
      "Enter a decimal value:10.5\n"
     ]
    }
   ],
   "source": [
    "y=float(input(\"Enter a decimal value:\"))"
   ]
  },
  {
   "cell_type": "code",
   "execution_count": 9,
   "id": "27a06a3b",
   "metadata": {},
   "outputs": [
    {
     "data": {
      "text/plain": [
       "float"
      ]
     },
     "execution_count": 9,
     "metadata": {},
     "output_type": "execute_result"
    }
   ],
   "source": [
    "type(y)"
   ]
  },
  {
   "cell_type": "markdown",
   "id": "cb00d635",
   "metadata": {},
   "source": [
    "#### using documentation for built in functions"
   ]
  },
  {
   "cell_type": "code",
   "execution_count": 10,
   "id": "d944c343",
   "metadata": {},
   "outputs": [],
   "source": [
    "pow?"
   ]
  },
  {
   "cell_type": "code",
   "execution_count": 12,
   "id": "c34d9b4a",
   "metadata": {},
   "outputs": [
    {
     "name": "stdout",
     "output_type": "stream",
     "text": [
      "Help on built-in function pow in module builtins:\n",
      "\n",
      "pow(base, exp, mod=None)\n",
      "    Equivalent to base**exp with 2 arguments or base**exp % mod with 3 arguments\n",
      "    \n",
      "    Some types, such as ints, are able to use a more efficient algorithm when\n",
      "    invoked using the three argument form.\n",
      "\n"
     ]
    }
   ],
   "source": [
    "help(pow)"
   ]
  },
  {
   "cell_type": "markdown",
   "id": "ad5be1e9",
   "metadata": {},
   "source": [
    "### control flow (if condition)"
   ]
  },
  {
   "cell_type": "code",
   "execution_count": 16,
   "id": "eb67e354",
   "metadata": {},
   "outputs": [
    {
     "name": "stdout",
     "output_type": "stream",
     "text": [
      "Enter a: 10\n",
      "Enter b: 10\n",
      "10  is equal to  10\n"
     ]
    }
   ],
   "source": [
    "a=int(input(\"Enter a: \"))\n",
    "b=int(input(\"Enter b: \"))\n",
    "\n",
    "if(a>b):\n",
    "    print(a,\" is greater than\",b )\n",
    "elif a==b:\n",
    "    print(a,\" is equal to \",b)\n",
    "else:\n",
    "    print(b,\" is greater than \",a)"
   ]
  },
  {
   "cell_type": "markdown",
   "id": "90d12954",
   "metadata": {},
   "source": [
    "python code to take a float no and convert to int and check if it is even or not "
   ]
  },
  {
   "cell_type": "code",
   "execution_count": 3,
   "id": "0e12c637",
   "metadata": {},
   "outputs": [
    {
     "name": "stdout",
     "output_type": "stream",
     "text": [
      "Enter a: 13.1\n",
      "odd\n"
     ]
    }
   ],
   "source": [
    "a=float((input(\"Enter a: \")))\n",
    "\n",
    "a=round(a)\n",
    "\n",
    "\n",
    "if(a%2==0):\n",
    "    print(\"Even\")\n",
    "else:\n",
    "    print(\"odd\")\n"
   ]
  },
  {
   "cell_type": "markdown",
   "id": "1fb9e0e8",
   "metadata": {},
   "source": [
    "#### while loop"
   ]
  },
  {
   "cell_type": "code",
   "execution_count": 6,
   "id": "a55e8dfd",
   "metadata": {},
   "outputs": [
    {
     "name": "stdout",
     "output_type": "stream",
     "text": [
      "1\n",
      "2\n",
      "3\n",
      "4\n",
      "5\n"
     ]
    }
   ],
   "source": [
    "i=1\n",
    "\n",
    "while(i<=5):\n",
    "    print(i)\n",
    "    i+=1"
   ]
  },
  {
   "cell_type": "markdown",
   "id": "00903492",
   "metadata": {},
   "source": [
    "#### break and continue statements"
   ]
  },
  {
   "cell_type": "markdown",
   "id": "5a5b9f57",
   "metadata": {},
   "source": [
    "**break:** moves the control flow out of the loop \n",
    "\n",
    "\n",
    "**continue:** moves the control flow to skip the current iteration and go to next loop iteration"
   ]
  },
  {
   "cell_type": "code",
   "execution_count": 26,
   "id": "0f4a26e5",
   "metadata": {},
   "outputs": [
    {
     "name": "stdout",
     "output_type": "stream",
     "text": [
      "7 X 1 =  7\n",
      "7 X 2 =  14\n",
      "7 X 3 =  21\n",
      "7 X 4 =  28\n",
      "7 X 5 =  35\n",
      "7 X 6 =  42\n",
      "7 X 7 =  49\n",
      "7 X 8 =  56\n",
      "7 X 9 =  63\n",
      "7 X 10 =  70\n"
     ]
    }
   ],
   "source": [
    "for i in range(limit+1):\n",
    "    \n",
    "    \n",
    "    \n",
    "    if(i==0):\n",
    "        continue #skips the iteration where i=0\n",
    "    else:\n",
    "        print(n,\"X\", i, \"= \", n*i)\n",
    "        \n",
    "    i += 1\n",
    "    \n",
    "    "
   ]
  },
  {
   "cell_type": "markdown",
   "id": "46a6c75b",
   "metadata": {},
   "source": [
    "**EXAMPLE PROGRAM:** print only the elements that are divisible by 3"
   ]
  },
  {
   "cell_type": "code",
   "execution_count": 3,
   "id": "661603b8",
   "metadata": {},
   "outputs": [
    {
     "name": "stdout",
     "output_type": "stream",
     "text": [
      "Enter the limit: 10\n",
      "3\n",
      "6\n",
      "9\n"
     ]
    }
   ],
   "source": [
    "limit=int(input(\"Enter the limit: \"))\n",
    "\n",
    "i=1\n",
    "\n",
    "while (i<=limit):\n",
    "    if (i%3==0):\n",
    "        print(i)\n",
    "    \n",
    "    i+=1\n",
    "        \n"
   ]
  },
  {
   "cell_type": "markdown",
   "id": "85dfcdee",
   "metadata": {},
   "source": [
    "**EXAMPLE PROGRAM** program to print the multiplication table of any number upto 10"
   ]
  },
  {
   "cell_type": "code",
   "execution_count": 11,
   "id": "911bb3f0",
   "metadata": {},
   "outputs": [
    {
     "name": "stdout",
     "output_type": "stream",
     "text": [
      "Enter the number: 7\n",
      "7 X 1 =  7\n",
      "7 X 2 =  14\n",
      "7 X 3 =  21\n",
      "7 X 4 =  28\n",
      "7 X 5 =  35\n",
      "7 X 6 =  42\n",
      "7 X 7 =  49\n",
      "7 X 8 =  56\n",
      "7 X 9 =  63\n",
      "7 X 10 =  70\n"
     ]
    }
   ],
   "source": [
    "n = int(input(\"Enter the number: \"))\n",
    "\n",
    "limit = 10\n",
    "i = 1\n",
    "\n",
    "while i <= limit:\n",
    "    print(n,\"X\", i, \"= \", n*i)\n",
    "    i += 1\n",
    "\n",
    "        "
   ]
  },
  {
   "cell_type": "markdown",
   "id": "0a708590",
   "metadata": {},
   "source": [
    "**FOR LOOP**"
   ]
  },
  {
   "cell_type": "markdown",
   "id": "d026af77",
   "metadata": {},
   "source": [
    "start from 1 to 11 by taking 1 iteration next each time"
   ]
  },
  {
   "cell_type": "code",
   "execution_count": 31,
   "id": "35f5874d",
   "metadata": {},
   "outputs": [
    {
     "name": "stdout",
     "output_type": "stream",
     "text": [
      "1\n",
      "2\n",
      "3\n",
      "4\n",
      "5\n",
      "6\n",
      "7\n",
      "8\n",
      "9\n",
      "10\n"
     ]
    }
   ],
   "source": [
    "for i in range(1,11,1):\n",
    "    print(i)"
   ]
  },
  {
   "cell_type": "markdown",
   "id": "cd4373ca",
   "metadata": {},
   "source": [
    "else part in **FOR LOOP** in python"
   ]
  },
  {
   "cell_type": "code",
   "execution_count": 43,
   "id": "a895149a",
   "metadata": {},
   "outputs": [
    {
     "name": "stdout",
     "output_type": "stream",
     "text": [
      "Sita\n",
      "Ram\n",
      "Loop completed\n"
     ]
    }
   ],
   "source": [
    "set={\"Ram\",\"Hari\",\"Sita\"}\n",
    "\n",
    "for i in set:\n",
    "    #skip Hari\n",
    "    if(i==\"Hari\"):\n",
    "        continue\n",
    "        \n",
    "    print(i)\n",
    "        #break\n",
    "# else portion in for loop is executed after loop complete\n",
    "else:\n",
    "    print(\"Loop completed\")"
   ]
  },
  {
   "cell_type": "markdown",
   "id": "69d4b1fe",
   "metadata": {},
   "source": [
    "### Dictionary"
   ]
  },
  {
   "cell_type": "markdown",
   "id": "0e2b5bb8",
   "metadata": {},
   "source": [
    "it is a data type in python where there is a key:value"
   ]
  },
  {
   "cell_type": "code",
   "execution_count": 44,
   "id": "4a49ef5e",
   "metadata": {},
   "outputs": [
    {
     "name": "stdout",
     "output_type": "stream",
     "text": [
      "{'A': 10, 'B': 20, 'C': 'Ram'}\n"
     ]
    }
   ],
   "source": [
    "D={\"A\":10,\"B\":20,\"C\":\"Ram\"}\n",
    "\n",
    "print(D)"
   ]
  },
  {
   "cell_type": "markdown",
   "id": "c8a1bf69",
   "metadata": {},
   "source": [
    "**printing values**"
   ]
  },
  {
   "cell_type": "code",
   "execution_count": 48,
   "id": "0b8fad2e",
   "metadata": {},
   "outputs": [
    {
     "name": "stdout",
     "output_type": "stream",
     "text": [
      "10\n",
      "20\n",
      "Ram\n"
     ]
    }
   ],
   "source": [
    "for i in D:\n",
    "    print(D[i])"
   ]
  },
  {
   "cell_type": "markdown",
   "id": "5d567b3f",
   "metadata": {},
   "source": [
    "**printing keys**"
   ]
  },
  {
   "cell_type": "code",
   "execution_count": 49,
   "id": "a39b7d46",
   "metadata": {},
   "outputs": [
    {
     "name": "stdout",
     "output_type": "stream",
     "text": [
      "A\n",
      "B\n",
      "C\n"
     ]
    }
   ],
   "source": [
    "for i in D:\n",
    "    print(i)"
   ]
  },
  {
   "cell_type": "markdown",
   "id": "91569552",
   "metadata": {},
   "source": [
    "**practice:** bubble sort"
   ]
  },
  {
   "cell_type": "code",
   "execution_count": 49,
   "id": "f665ad64",
   "metadata": {},
   "outputs": [
    {
     "name": "stdout",
     "output_type": "stream",
     "text": [
      "[5, 6, 7, 8, 15, 10]\n"
     ]
    }
   ],
   "source": [
    "def bubble(List):\n",
    "    temp=0\n",
    "    length=len(List)-1\n",
    "    \n",
    "    \n",
    "    for j in range(0,length):\n",
    "        \n",
    "        for i in range(0,length-1):\n",
    "            if (List[i] > List[i+1]): #if (4<-5) True\n",
    "                \n",
    "                \n",
    "                temp= List[i] #temp=4\n",
    "                List[i]=List[i+1] #L[2]=-5\n",
    "                List[i+1]=temp #List[3]=4\n",
    "                \n",
    "        \n",
    "        return List\n",
    "                \n",
    "\n",
    "print(bubble([7,5,6,8,15,10]))\n",
    "    "
   ]
  },
  {
   "cell_type": "markdown",
   "id": "d6c13519",
   "metadata": {},
   "source": [
    "### Functions "
   ]
  },
  {
   "cell_type": "code",
   "execution_count": 2,
   "id": "fe90fb2b",
   "metadata": {},
   "outputs": [
    {
     "name": "stdout",
     "output_type": "stream",
     "text": [
      "hello\n"
     ]
    }
   ],
   "source": [
    "def func(msg):\n",
    "    print(msg)\n",
    "\n",
    "func(\"hello\")"
   ]
  },
  {
   "cell_type": "markdown",
   "id": "26fa34f6",
   "metadata": {},
   "source": [
    "we can pass any number of parameters in a function "
   ]
  },
  {
   "cell_type": "code",
   "execution_count": 3,
   "id": "0fb227f8",
   "metadata": {},
   "outputs": [
    {
     "name": "stdout",
     "output_type": "stream",
     "text": [
      "6\n"
     ]
    }
   ],
   "source": [
    "def sum(a,b):\n",
    "    print(a+b)\n",
    "    \n",
    "sum(2,4)"
   ]
  },
  {
   "cell_type": "markdown",
   "id": "175f1a5d",
   "metadata": {},
   "source": [
    "we can use arbiary parmeters for multiple parameters"
   ]
  },
  {
   "cell_type": "code",
   "execution_count": 7,
   "id": "a22a241f",
   "metadata": {},
   "outputs": [],
   "source": [
    "def sum(*num): #the num takes any no of input entered\n",
    "    sum=0\n",
    "    \n",
    "    for i in range(len(num)):\n",
    "        sum+=num[i]\n",
    "    return sum"
   ]
  },
  {
   "cell_type": "markdown",
   "id": "9de0ee63",
   "metadata": {},
   "source": [
    "works for any no of parameters passed into the functions"
   ]
  },
  {
   "cell_type": "code",
   "execution_count": 8,
   "id": "09a20464",
   "metadata": {},
   "outputs": [
    {
     "name": "stdout",
     "output_type": "stream",
     "text": [
      "182\n"
     ]
    }
   ],
   "source": [
    "print(sum(10,20,6,48,98))"
   ]
  },
  {
   "cell_type": "markdown",
   "id": "cca472a8",
   "metadata": {},
   "source": [
    "#### strings"
   ]
  },
  {
   "cell_type": "code",
   "execution_count": 5,
   "id": "4bbac7c2",
   "metadata": {},
   "outputs": [
    {
     "name": "stdout",
     "output_type": "stream",
     "text": [
      "HelloWorld\n"
     ]
    }
   ],
   "source": [
    "s1=\"Hello\"\n",
    "s2=\"World\"\n",
    "\n",
    "print(s1+s2)"
   ]
  },
  {
   "cell_type": "code",
   "execution_count": 7,
   "id": "cd9bdafb",
   "metadata": {},
   "outputs": [
    {
     "data": {
      "text/plain": [
       "str"
      ]
     },
     "execution_count": 7,
     "metadata": {},
     "output_type": "execute_result"
    }
   ],
   "source": [
    "type(s1)"
   ]
  },
  {
   "cell_type": "code",
   "execution_count": 8,
   "id": "a4e3814a",
   "metadata": {},
   "outputs": [
    {
     "name": "stdout",
     "output_type": "stream",
     "text": [
      "Variable   Type    Data/Info\n",
      "----------------------------\n",
      "s          str     Hello world\n",
      "s1         str     Hello\n",
      "s2         str     World\n"
     ]
    }
   ],
   "source": [
    "%whos"
   ]
  },
  {
   "cell_type": "markdown",
   "id": "ac8fb80a",
   "metadata": {},
   "source": [
    "**multiline string**"
   ]
  },
  {
   "cell_type": "code",
   "execution_count": 15,
   "id": "b896125b",
   "metadata": {},
   "outputs": [
    {
     "name": "stdout",
     "output_type": "stream",
     "text": [
      "This is a multiline string in python: \n",
      "line 1\n",
      "line 2 \n",
      "line 3\n",
      "\n"
     ]
    }
   ],
   "source": [
    "multilineStr=\"\"\"This is a multiline string in python: \n",
    "line 1\n",
    "line 2 \n",
    "line 3\n",
    "\"\"\"\n",
    "\n",
    "print(multilineStr)"
   ]
  },
  {
   "cell_type": "markdown",
   "id": "8cdf1c97",
   "metadata": {},
   "source": [
    "**indexing and slicling**"
   ]
  },
  {
   "cell_type": "code",
   "execution_count": 24,
   "id": "78ce9c3e",
   "metadata": {},
   "outputs": [
    {
     "name": "stdout",
     "output_type": "stream",
     "text": [
      "llo\n"
     ]
    }
   ],
   "source": [
    "txt=\"Hello\"\n",
    "print(txt[2:5]) #starting from index 2 to index 5"
   ]
  },
  {
   "cell_type": "code",
   "execution_count": 25,
   "id": "3c4db847",
   "metadata": {},
   "outputs": [
    {
     "name": "stdout",
     "output_type": "stream",
     "text": [
      "5\n"
     ]
    }
   ],
   "source": [
    "print(len(txt))"
   ]
  },
  {
   "cell_type": "markdown",
   "id": "47c335a0",
   "metadata": {},
   "source": [
    "#### some str manipulating methods"
   ]
  },
  {
   "cell_type": "code",
   "execution_count": 29,
   "id": "b7a23043",
   "metadata": {},
   "outputs": [],
   "source": [
    "txt=\"  This is a test string   \""
   ]
  },
  {
   "cell_type": "markdown",
   "id": "84c93e9a",
   "metadata": {},
   "source": [
    "```strip()```"
   ]
  },
  {
   "cell_type": "code",
   "execution_count": 30,
   "id": "13062a9a",
   "metadata": {},
   "outputs": [
    {
     "name": "stdout",
     "output_type": "stream",
     "text": [
      "This is a test string\n"
     ]
    }
   ],
   "source": [
    "print(txt.strip()) # removes spaces at beginning and end"
   ]
  },
  {
   "cell_type": "markdown",
   "id": "6b93b476",
   "metadata": {},
   "source": [
    "```lower()``` and ```upper()```"
   ]
  },
  {
   "cell_type": "code",
   "execution_count": 33,
   "id": "76dba80d",
   "metadata": {},
   "outputs": [
    {
     "name": "stdout",
     "output_type": "stream",
     "text": [
      "  THIS IS A TEST STRING      this is a test string   \n"
     ]
    }
   ],
   "source": [
    "print(txt.upper(),txt.lower()) #converts to lower or upper cases"
   ]
  },
  {
   "cell_type": "markdown",
   "id": "d5a29ef3",
   "metadata": {},
   "source": [
    "```replace()```"
   ]
  },
  {
   "cell_type": "code",
   "execution_count": 37,
   "id": "4acd3eaf",
   "metadata": {},
   "outputs": [
    {
     "name": "stdout",
     "output_type": "stream",
     "text": [
      ";;This;is;a;test;string;;;\n",
      "  Thiw iw a tewt wtring   \n"
     ]
    }
   ],
   "source": [
    "print(txt.replace(\" \", \";\")) #replaces any character with other\n",
    "print(txt.replace(\"s\",\"w\"))"
   ]
  },
  {
   "cell_type": "markdown",
   "id": "903015b1",
   "metadata": {},
   "source": [
    "```split()```"
   ]
  },
  {
   "cell_type": "code",
   "execution_count": 38,
   "id": "446b2e75",
   "metadata": {},
   "outputs": [
    {
     "name": "stdout",
     "output_type": "stream",
     "text": [
      "['', '', 'This', 'is', 'a', 'test', 'string', '', '', '']\n"
     ]
    }
   ],
   "source": [
    "print(txt.split(\" \")) #splits the string when it encounters the given char"
   ]
  },
  {
   "cell_type": "markdown",
   "id": "eb7eb74e",
   "metadata": {},
   "source": [
    "### Data Structures"
   ]
  },
  {
   "cell_type": "markdown",
   "id": "7bd1f46b",
   "metadata": {},
   "source": [
    "collection of data or values "
   ]
  },
  {
   "attachments": {
    "image.png": {
     "image/png": "[encoded data removed]"
    }
   },
   "cell_type": "markdown",
   "id": "ce57131d",
   "metadata": {},
   "source": [
    "![image.png](attachment:image.png)"
   ]
  },
  {
   "cell_type": "code",
   "execution_count": 1,
   "id": "14537bef",
   "metadata": {},
   "outputs": [],
   "source": [
    "L = [1,3,4.9,\"text\",3] #list\n",
    "T = (1,3,4,4.9,\"text\",3) #tuple\n",
    "S = {1,3,4.9,\"text\",3} #set\n",
    "D = {\"name\":\"Ram\",\"roll\":23,\"Sub\":\"python\"} #dictionary "
   ]
  },
  {
   "cell_type": "code",
   "execution_count": 3,
   "id": "038b7b2c",
   "metadata": {},
   "outputs": [
    {
     "name": "stdout",
     "output_type": "stream",
     "text": [
      "<class 'list'>\n",
      "<class 'tuple'>\n",
      "<class 'set'>\n",
      "<class 'dict'>\n"
     ]
    }
   ],
   "source": [
    "print(type(L))\n",
    "print(type(T))\n",
    "print(type(S))\n",
    "print(type(D))"
   ]
  },
  {
   "cell_type": "markdown",
   "id": "0b794f2e",
   "metadata": {},
   "source": [
    "**acessing values :**"
   ]
  },
  {
   "cell_type": "code",
   "execution_count": 6,
   "id": "aafc3f82",
   "metadata": {},
   "outputs": [
    {
     "name": "stdout",
     "output_type": "stream",
     "text": [
      "3\n",
      "3\n",
      "True\n",
      "Ram\n"
     ]
    }
   ],
   "source": [
    "print(L[1])\n",
    "print(T[1])\n",
    "print(3 in S) # prints if 3 is in the set S or not\n",
    "print(D[\"name\"])"
   ]
  },
  {
   "cell_type": "code",
   "execution_count": 9,
   "id": "551d715b",
   "metadata": {},
   "outputs": [
    {
     "name": "stdout",
     "output_type": "stream",
     "text": [
      "{'text', 3, 4.9, 1}\n"
     ]
    }
   ],
   "source": [
    "print(S) #there is no index "
   ]
  },
  {
   "cell_type": "code",
   "execution_count": 21,
   "id": "ede7f19e",
   "metadata": {},
   "outputs": [
    {
     "data": {
      "text/plain": [
       "[1, 3, 4.9, 'text', 3]"
      ]
     },
     "execution_count": 21,
     "metadata": {},
     "output_type": "execute_result"
    }
   ],
   "source": [
    "L"
   ]
  },
  {
   "cell_type": "code",
   "execution_count": 23,
   "id": "307ff928",
   "metadata": {},
   "outputs": [
    {
     "data": {
      "text/plain": [
       "[3, 4.9]"
      ]
     },
     "execution_count": 23,
     "metadata": {},
     "output_type": "execute_result"
    }
   ],
   "source": [
    "L[1:3] #prints at index 1 and 3"
   ]
  },
  {
   "cell_type": "code",
   "execution_count": 26,
   "id": "2f598a91",
   "metadata": {},
   "outputs": [
    {
     "data": {
      "text/plain": [
       "(1, 3, 4)"
      ]
     },
     "execution_count": 26,
     "metadata": {},
     "output_type": "execute_result"
    }
   ],
   "source": [
    "T[:3] #prints from index 1 to 3"
   ]
  },
  {
   "cell_type": "markdown",
   "id": "fffac173",
   "metadata": {},
   "source": [
    "adding new elements is possible for every except tuple because ***tuples are immutable***"
   ]
  },
  {
   "cell_type": "code",
   "execution_count": 33,
   "id": "b0fc56cd",
   "metadata": {},
   "outputs": [],
   "source": [
    "L.append(\"newElement\")"
   ]
  },
  {
   "cell_type": "code",
   "execution_count": 28,
   "id": "fa1b1264",
   "metadata": {},
   "outputs": [
    {
     "data": {
      "text/plain": [
       "[1, 3, 4.9, 'text', 3, 'newElement']"
      ]
     },
     "execution_count": 28,
     "metadata": {},
     "output_type": "execute_result"
    }
   ],
   "source": [
    "L"
   ]
  },
  {
   "cell_type": "code",
   "execution_count": 34,
   "id": "09933701",
   "metadata": {},
   "outputs": [],
   "source": [
    "del L[5] #deletes value at index 5"
   ]
  },
  {
   "cell_type": "code",
   "execution_count": 35,
   "id": "3a7e1c47",
   "metadata": {},
   "outputs": [
    {
     "data": {
      "text/plain": [
       "[1, 3, 4.9, 'text', 3]"
      ]
     },
     "execution_count": 35,
     "metadata": {},
     "output_type": "execute_result"
    }
   ],
   "source": [
    "L"
   ]
  },
  {
   "cell_type": "markdown",
   "id": "e80ae6eb",
   "metadata": {},
   "source": [
    "concatinating "
   ]
  },
  {
   "cell_type": "code",
   "execution_count": 36,
   "id": "917785cf",
   "metadata": {},
   "outputs": [],
   "source": [
    "L = L + [\"e1\", \"e2\", 12, 14.5]"
   ]
  },
  {
   "cell_type": "code",
   "execution_count": 37,
   "id": "8447b145",
   "metadata": {},
   "outputs": [
    {
     "data": {
      "text/plain": [
       "[1, 3, 4.9, 'text', 3, 'e1', 'e2', 12, 14.5]"
      ]
     },
     "execution_count": 37,
     "metadata": {},
     "output_type": "execute_result"
    }
   ],
   "source": [
    "L"
   ]
  },
  {
   "cell_type": "markdown",
   "id": "b36d35db",
   "metadata": {},
   "source": [
    "****sets****"
   ]
  },
  {
   "cell_type": "code",
   "execution_count": 38,
   "id": "067a386e",
   "metadata": {},
   "outputs": [],
   "source": [
    "S.update({\"newEl\",20})"
   ]
  },
  {
   "cell_type": "code",
   "execution_count": 39,
   "id": "fddaaad6",
   "metadata": {},
   "outputs": [
    {
     "data": {
      "text/plain": [
       "{1, 20, 3, 4.9, 'newEl', 'text'}"
      ]
     },
     "execution_count": 39,
     "metadata": {},
     "output_type": "execute_result"
    }
   ],
   "source": [
    "S"
   ]
  },
  {
   "cell_type": "markdown",
   "id": "be716dbc",
   "metadata": {},
   "source": [
    "***dictionaries***"
   ]
  },
  {
   "cell_type": "code",
   "execution_count": 40,
   "id": "9364cc9c",
   "metadata": {},
   "outputs": [
    {
     "data": {
      "text/plain": [
       "{'name': 'Ram', 'roll': 23, 'Sub': 'python'}"
      ]
     },
     "execution_count": 40,
     "metadata": {},
     "output_type": "execute_result"
    }
   ],
   "source": [
    "D"
   ]
  },
  {
   "cell_type": "code",
   "execution_count": 41,
   "id": "b6e69597",
   "metadata": {},
   "outputs": [],
   "source": [
    "D['age']=56 #adds new key age with value 56"
   ]
  },
  {
   "cell_type": "code",
   "execution_count": 42,
   "id": "9c3a6390",
   "metadata": {},
   "outputs": [
    {
     "data": {
      "text/plain": [
       "{'name': 'Ram', 'roll': 23, 'Sub': 'python', 'age': 56}"
      ]
     },
     "execution_count": 42,
     "metadata": {},
     "output_type": "execute_result"
    }
   ],
   "source": [
    "D"
   ]
  },
  {
   "cell_type": "code",
   "execution_count": 50,
   "id": "c9203668",
   "metadata": {},
   "outputs": [],
   "source": [
    "D2={'game':'chess','color':'red','gender':'male'}"
   ]
  },
  {
   "cell_type": "code",
   "execution_count": 46,
   "id": "ff201403",
   "metadata": {},
   "outputs": [
    {
     "ename": "TypeError",
     "evalue": "unsupported operand type(s) for +: 'dict' and 'dict'",
     "output_type": "error",
     "traceback": [
      "\u001b[1;31m---------------------------------------------------------------------------\u001b[0m",
      "\u001b[1;31mTypeError\u001b[0m                                 Traceback (most recent call last)",
      "\u001b[1;32m~\\AppData\\Local\\Temp\\ipykernel_7068\\2951711528.py\u001b[0m in \u001b[0;36m<module>\u001b[1;34m\u001b[0m\n\u001b[1;32m----> 1\u001b[1;33m \u001b[0mD\u001b[0m\u001b[1;33m+\u001b[0m\u001b[0mD2\u001b[0m \u001b[1;31m# dictionaries cannot be concatinated\u001b[0m\u001b[1;33m\u001b[0m\u001b[1;33m\u001b[0m\u001b[0m\n\u001b[0m",
      "\u001b[1;31mTypeError\u001b[0m: unsupported operand type(s) for +: 'dict' and 'dict'"
     ]
    }
   ],
   "source": [
    "D+D2 # dictionaries cannot be concatinated"
   ]
  },
  {
   "cell_type": "code",
   "execution_count": 51,
   "id": "785d397c",
   "metadata": {},
   "outputs": [],
   "source": [
    "del D2['game'] #deletes game value in D2"
   ]
  },
  {
   "cell_type": "code",
   "execution_count": 52,
   "id": "c486ee6f",
   "metadata": {},
   "outputs": [
    {
     "data": {
      "text/plain": [
       "{'color': 'red', 'gender': 'male'}"
      ]
     },
     "execution_count": 52,
     "metadata": {},
     "output_type": "execute_result"
    }
   ],
   "source": [
    "D2"
   ]
  },
  {
   "cell_type": "markdown",
   "id": "abddb960",
   "metadata": {},
   "source": [
    "```copy()``` does not work for tuple since tuples are immutabe but works for list, dict, and set"
   ]
  },
  {
   "cell_type": "code",
   "execution_count": 58,
   "id": "f10cb3a2",
   "metadata": {},
   "outputs": [],
   "source": [
    "L2=L.copy() #copies L to L2"
   ]
  },
  {
   "cell_type": "code",
   "execution_count": 57,
   "id": "48f9d73a",
   "metadata": {},
   "outputs": [
    {
     "data": {
      "text/plain": [
       "[1, 3, 4.9, 'text', 3, 'e1', 'e2', 12, 14.5]"
      ]
     },
     "execution_count": 57,
     "metadata": {},
     "output_type": "execute_result"
    }
   ],
   "source": [
    "L2"
   ]
  },
  {
   "cell_type": "code",
   "execution_count": 59,
   "id": "c025711e",
   "metadata": {},
   "outputs": [],
   "source": [
    "D3=D2.copy()"
   ]
  },
  {
   "cell_type": "code",
   "execution_count": 60,
   "id": "53cf19db",
   "metadata": {},
   "outputs": [
    {
     "data": {
      "text/plain": [
       "{'color': 'red', 'gender': 'male'}"
      ]
     },
     "execution_count": 60,
     "metadata": {},
     "output_type": "execute_result"
    }
   ],
   "source": [
    "D3"
   ]
  },
  {
   "cell_type": "code",
   "execution_count": 61,
   "id": "80970971",
   "metadata": {},
   "outputs": [],
   "source": [
    "S2=S.copy()"
   ]
  },
  {
   "cell_type": "code",
   "execution_count": 63,
   "id": "e04a774b",
   "metadata": {},
   "outputs": [
    {
     "data": {
      "text/plain": [
       "{1, 20, 3, 4.9, 'newEl', 'text'}"
      ]
     },
     "execution_count": 63,
     "metadata": {},
     "output_type": "execute_result"
    }
   ],
   "source": [
    "S2"
   ]
  },
  {
   "cell_type": "code",
   "execution_count": 68,
   "id": "4fef6e9f",
   "metadata": {},
   "outputs": [],
   "source": [
    "L3=L[1:5] #L3 is a new list but has values of L from 1 to 5"
   ]
  },
  {
   "cell_type": "code",
   "execution_count": 67,
   "id": "9d378919",
   "metadata": {},
   "outputs": [
    {
     "data": {
      "text/plain": [
       "[3, 4.9, 'text', 3]"
      ]
     },
     "execution_count": 67,
     "metadata": {},
     "output_type": "execute_result"
    }
   ],
   "source": [
    "L3"
   ]
  },
  {
   "cell_type": "code",
   "execution_count": 81,
   "id": "f16d1315",
   "metadata": {},
   "outputs": [],
   "source": [
    "L.reverse()"
   ]
  },
  {
   "cell_type": "code",
   "execution_count": 77,
   "id": "2c550f2b",
   "metadata": {},
   "outputs": [
    {
     "data": {
      "text/plain": [
       "'e2'"
      ]
     },
     "execution_count": 77,
     "metadata": {},
     "output_type": "execute_result"
    }
   ],
   "source": [
    "L.pop(1) #pops index 1 value"
   ]
  },
  {
   "cell_type": "code",
   "execution_count": 82,
   "id": "9eb902d9",
   "metadata": {},
   "outputs": [],
   "source": [
    "L.clear() #makes the list empty"
   ]
  },
  {
   "cell_type": "code",
   "execution_count": 83,
   "id": "d8c2d4da",
   "metadata": {},
   "outputs": [
    {
     "data": {
      "text/plain": [
       "[]"
      ]
     },
     "execution_count": 83,
     "metadata": {},
     "output_type": "execute_result"
    }
   ],
   "source": [
    "L"
   ]
  },
  {
   "cell_type": "code",
   "execution_count": 90,
   "id": "1f22d5ca",
   "metadata": {},
   "outputs": [
    {
     "data": {
      "text/plain": [
       "4"
      ]
     },
     "execution_count": 90,
     "metadata": {},
     "output_type": "execute_result"
    }
   ],
   "source": [
    "T.index(\"text\") #gives index of value"
   ]
  },
  {
   "cell_type": "code",
   "execution_count": 91,
   "id": "d6898baf",
   "metadata": {},
   "outputs": [
    {
     "data": {
      "text/plain": [
       "dict_items([('name', 'Ram'), ('roll', 23), ('Sub', 'python'), ('age', 56)])"
      ]
     },
     "execution_count": 91,
     "metadata": {},
     "output_type": "execute_result"
    }
   ],
   "source": [
    "D.items() #lists all the items"
   ]
  },
  {
   "cell_type": "markdown",
   "id": "0c36aa08",
   "metadata": {},
   "source": [
    "#### practice"
   ]
  },
  {
   "cell_type": "markdown",
   "id": "83f614d3",
   "metadata": {},
   "source": [
    "You have different student records containing id of a student and the marks list in each subject where different student have taken different number of subjects. All these record are in hard copy. You want to enter all the data in computer and want to computer the average marks of each student and display \n",
    "\n"
   ]
  },
  {
   "cell_type": "code",
   "execution_count": 22,
   "id": "289df1d4",
   "metadata": {},
   "outputs": [
    {
     "name": "stdout",
     "output_type": "stream",
     "text": [
      "Enter the student id: 1\n",
      "Enter the marks obtained seperated by commas: 1,2,3\n",
      "Enter no to quit: \n",
      "Enter the student id: 2\n",
      "Enter the marks obtained seperated by commas: 1,2,3,4\n",
      "Enter no to quit: \n",
      "Enter the student id: 3\n",
      "Enter the marks obtained seperated by commas: 1,2,3,4,5\n",
      "Enter no to quit: no\n",
      "{'1': [2.0], '2': [2.5], '3': [3.0]}\n"
     ]
    }
   ],
   "source": [
    "def getData():\n",
    "    stdDataList = []\n",
    "    while True:\n",
    "        D = {}\n",
    "        D['stdId'] = input('Enter the student id: ')\n",
    "        D['marksList'] = input('Enter the marks obtained seperated by commas: ')\n",
    "        moreStdChoice = input('Enter no to quit: ')\n",
    "        \n",
    "        stdDataList.append(D)\n",
    "\n",
    "        if(moreStdChoice.lower() == 'no'):\n",
    "            return stdDataList\n",
    "\n",
    "def getAvg(stdDataList):\n",
    "    avgMarks = {}\n",
    "    for i in stdDataList:\n",
    "        marksList = i['marksList'].split(',')\n",
    "        marksList = [int(x) for x in marksList] #convert every element of ml into a int\n",
    "\n",
    "        sum = 0\n",
    "        for mark in marksList:\n",
    "            sum += mark\n",
    "        avg = sum / len(marksList)\n",
    "\n",
    "        # append new value to avgMarks dictionary\n",
    "        if i['stdId'] not in avgMarks:\n",
    "            avgMarks[i['stdId']] = [avg]\n",
    "        else:\n",
    "            avgMarks[i['stdId']].append(avg)\n",
    "    \n",
    "    return avgMarks\n",
    "    \n",
    "if __name__==\"__main__\":\n",
    "    data = getData()\n",
    "    avg = getAvg(data)\n",
    "    print(avg)\n"
   ]
  },
  {
   "cell_type": "markdown",
   "id": "3b63be70",
   "metadata": {},
   "source": [
    "### random module"
   ]
  },
  {
   "cell_type": "code",
   "execution_count": 7,
   "id": "549f363e",
   "metadata": {},
   "outputs": [],
   "source": [
    "import random"
   ]
  },
  {
   "cell_type": "markdown",
   "id": "23e6a3d9",
   "metadata": {},
   "source": [
    "```randint()``` gives random int "
   ]
  },
  {
   "cell_type": "code",
   "execution_count": 9,
   "id": "4426dd90",
   "metadata": {},
   "outputs": [
    {
     "data": {
      "text/plain": [
       "9"
      ]
     },
     "execution_count": 9,
     "metadata": {},
     "output_type": "execute_result"
    }
   ],
   "source": [
    "random.randint(5,10) #random int from 5 to 10"
   ]
  },
  {
   "cell_type": "markdown",
   "id": "5701b062",
   "metadata": {},
   "source": [
    "```choice()``` gives random choice "
   ]
  },
  {
   "cell_type": "code",
   "execution_count": 11,
   "id": "5600cf38",
   "metadata": {},
   "outputs": [
    {
     "data": {
      "text/plain": [
       "'scissors'"
      ]
     },
     "execution_count": 11,
     "metadata": {},
     "output_type": "execute_result"
    }
   ],
   "source": [
    "L = ['rock', 'paper', 'scissors']\n",
    "\n",
    "random.choice(L)"
   ]
  },
  {
   "cell_type": "markdown",
   "id": "6f25ec4e",
   "metadata": {},
   "source": [
    "```randrange()``` gives random number between without the end"
   ]
  },
  {
   "cell_type": "code",
   "execution_count": 13,
   "id": "9a978c05",
   "metadata": {},
   "outputs": [
    {
     "data": {
      "text/plain": [
       "4"
      ]
     },
     "execution_count": 13,
     "metadata": {},
     "output_type": "execute_result"
    }
   ],
   "source": [
    "random.randrange(1,10) #random number from 1 to 9"
   ]
  },
  {
   "cell_type": "markdown",
   "id": "fac3bea9",
   "metadata": {},
   "source": [
    "```shuffle()``` shuffles the order of elements"
   ]
  },
  {
   "cell_type": "code",
   "execution_count": 14,
   "id": "b441f6dc",
   "metadata": {},
   "outputs": [],
   "source": [
    "random.shuffle(L)"
   ]
  },
  {
   "cell_type": "code",
   "execution_count": 15,
   "id": "70781aef",
   "metadata": {},
   "outputs": [
    {
     "data": {
      "text/plain": [
       "['paper', 'scissors', 'rock']"
      ]
     },
     "execution_count": 15,
     "metadata": {},
     "output_type": "execute_result"
    }
   ],
   "source": [
    "L"
   ]
  },
  {
   "cell_type": "markdown",
   "id": "5cdb9512",
   "metadata": {},
   "source": [
    "```uniform()``` gives random float numbers "
   ]
  },
  {
   "cell_type": "code",
   "execution_count": 17,
   "id": "2d8643e6",
   "metadata": {},
   "outputs": [
    {
     "data": {
      "text/plain": [
       "1.8926082703084288"
      ]
     },
     "execution_count": 17,
     "metadata": {},
     "output_type": "execute_result"
    }
   ],
   "source": [
    "random.uniform(1,2)"
   ]
  },
  {
   "cell_type": "code",
   "execution_count": null,
   "id": "d0cd3373",
   "metadata": {},
   "outputs": [],
   "source": []
  }
 ],
 "metadata": {
  "kernelspec": {
   "display_name": "Python 3 (ipykernel)",
   "language": "python",
   "name": "python3"
  },
  "language_info": {
   "codemirror_mode": {
    "name": "ipython",
    "version": 3
   },
   "file_extension": ".py",
   "mimetype": "text/x-python",
   "name": "python",
   "nbconvert_exporter": "python",
   "pygments_lexer": "ipython3",
   "version": "3.9.13"
  }
 },
 "nbformat": 4,
 "nbformat_minor": 5
}
