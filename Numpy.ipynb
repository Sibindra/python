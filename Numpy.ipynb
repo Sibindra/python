{
 "cells": [
  {
   "cell_type": "markdown",
   "id": "dcb81266",
   "metadata": {},
   "source": [
    "# Numpy\n",
    "\n",
    "* faster \n",
    "* uses relatively less memory to store data \n",
    "* provides efficient storage"
   ]
  },
  {
   "cell_type": "code",
   "execution_count": 1,
   "id": "9757336d",
   "metadata": {},
   "outputs": [],
   "source": [
    "import numpy as np"
   ]
  },
  {
   "cell_type": "code",
   "execution_count": 5,
   "id": "f92d5e56",
   "metadata": {},
   "outputs": [],
   "source": [
    "myarr = np.array( [1,2,3,6,32,7] )"
   ]
  },
  {
   "cell_type": "code",
   "execution_count": 7,
   "id": "38c4bcee",
   "metadata": {},
   "outputs": [
    {
     "data": {
      "text/plain": [
       "numpy.ndarray"
      ]
     },
     "execution_count": 7,
     "metadata": {},
     "output_type": "execute_result"
    }
   ],
   "source": [
    "type(myarr)"
   ]
  },
  {
   "cell_type": "markdown",
   "id": "8f8f103a",
   "metadata": {},
   "source": [
    "**specifying data types**"
   ]
  },
  {
   "cell_type": "code",
   "execution_count": 10,
   "id": "6fed2da2",
   "metadata": {},
   "outputs": [],
   "source": [
    "myarr = np.array ( [1,2,3,6,32,7], np.int8 ) #only 8 byte array of int"
   ]
  },
  {
   "cell_type": "code",
   "execution_count": 11,
   "id": "0540d587",
   "metadata": {},
   "outputs": [
    {
     "data": {
      "text/plain": [
       "array([ 1,  2,  3,  6, 32,  7], dtype=int8)"
      ]
     },
     "execution_count": 11,
     "metadata": {},
     "output_type": "execute_result"
    }
   ],
   "source": [
    "myarr"
   ]
  },
  {
   "cell_type": "code",
   "execution_count": 13,
   "id": "d81a66da",
   "metadata": {},
   "outputs": [
    {
     "data": {
      "text/plain": [
       "2"
      ]
     },
     "execution_count": 13,
     "metadata": {},
     "output_type": "execute_result"
    }
   ],
   "source": [
    "myarr[1]"
   ]
  },
  {
   "cell_type": "markdown",
   "id": "98a58a47",
   "metadata": {},
   "source": [
    "**2D arrays**"
   ]
  },
  {
   "cell_type": "code",
   "execution_count": 14,
   "id": "ba198da7",
   "metadata": {},
   "outputs": [],
   "source": [
    "matrix = np.array ( [[1,2,3,4]] )"
   ]
  },
  {
   "cell_type": "code",
   "execution_count": 15,
   "id": "3d3b8534",
   "metadata": {},
   "outputs": [
    {
     "data": {
      "text/plain": [
       "numpy.ndarray"
      ]
     },
     "execution_count": 15,
     "metadata": {},
     "output_type": "execute_result"
    }
   ],
   "source": [
    "type(matrix)"
   ]
  },
  {
   "cell_type": "code",
   "execution_count": 18,
   "id": "3142fd93",
   "metadata": {},
   "outputs": [
    {
     "data": {
      "text/plain": [
       "2"
      ]
     },
     "execution_count": 18,
     "metadata": {},
     "output_type": "execute_result"
    }
   ],
   "source": [
    "matrix[0,1]"
   ]
  },
  {
   "cell_type": "markdown",
   "id": "5587755e",
   "metadata": {},
   "source": [
    "***get shape of matrix**"
   ]
  },
  {
   "cell_type": "code",
   "execution_count": 20,
   "id": "be14f9de",
   "metadata": {},
   "outputs": [
    {
     "data": {
      "text/plain": [
       "(1, 4)"
      ]
     },
     "execution_count": 20,
     "metadata": {},
     "output_type": "execute_result"
    }
   ],
   "source": [
    "matrix.shape # 1 row 4 cols"
   ]
  },
  {
   "cell_type": "markdown",
   "id": "4dab71f4",
   "metadata": {},
   "source": [
    "**changing values**"
   ]
  },
  {
   "cell_type": "code",
   "execution_count": 21,
   "id": "288d96df",
   "metadata": {},
   "outputs": [],
   "source": [
    "matrix[0,1] = 45"
   ]
  },
  {
   "cell_type": "code",
   "execution_count": 22,
   "id": "d256469d",
   "metadata": {},
   "outputs": [
    {
     "data": {
      "text/plain": [
       "array([[ 1, 45,  3,  4]])"
      ]
     },
     "execution_count": 22,
     "metadata": {},
     "output_type": "execute_result"
    }
   ],
   "source": [
    "matrix"
   ]
  },
  {
   "cell_type": "markdown",
   "id": "19ced04e",
   "metadata": {},
   "source": [
    "## array creation methods in numpy"
   ]
  },
  {
   "cell_type": "markdown",
   "id": "474dfb62",
   "metadata": {},
   "source": [
    "### conversion form python objects like list, tuple ..."
   ]
  },
  {
   "cell_type": "code",
   "execution_count": 28,
   "id": "1bd3915c",
   "metadata": {},
   "outputs": [],
   "source": [
    "listArr = np.array([[1,2,3],[4,5,6],[7,8,9]])"
   ]
  },
  {
   "cell_type": "code",
   "execution_count": 29,
   "id": "873197c4",
   "metadata": {},
   "outputs": [
    {
     "data": {
      "text/plain": [
       "array([[1, 2, 3],\n",
       "       [4, 5, 6],\n",
       "       [7, 8, 9]])"
      ]
     },
     "execution_count": 29,
     "metadata": {},
     "output_type": "execute_result"
    }
   ],
   "source": [
    "listArr"
   ]
  },
  {
   "cell_type": "code",
   "execution_count": 30,
   "id": "338f5e1d",
   "metadata": {},
   "outputs": [
    {
     "data": {
      "text/plain": [
       "(3, 3)"
      ]
     },
     "execution_count": 30,
     "metadata": {},
     "output_type": "execute_result"
    }
   ],
   "source": [
    "listArr.shape"
   ]
  },
  {
   "cell_type": "code",
   "execution_count": 31,
   "id": "ab6692a2",
   "metadata": {},
   "outputs": [
    {
     "data": {
      "text/plain": [
       "dtype('int32')"
      ]
     },
     "execution_count": 31,
     "metadata": {},
     "output_type": "execute_result"
    }
   ],
   "source": [
    "listArr.dtype"
   ]
  },
  {
   "cell_type": "markdown",
   "id": "a43a0fdc",
   "metadata": {},
   "source": [
    "### intrinsic numpy creation objects"
   ]
  },
  {
   "cell_type": "markdown",
   "id": "9ca49376",
   "metadata": {},
   "source": [
    "**```zeros()``` method**"
   ]
  },
  {
   "cell_type": "code",
   "execution_count": 33,
   "id": "22305c0e",
   "metadata": {},
   "outputs": [],
   "source": [
    "zeros = np.zeros((2,5)) #creates an array of 2x5 with zero value"
   ]
  },
  {
   "cell_type": "code",
   "execution_count": 34,
   "id": "13f8887e",
   "metadata": {},
   "outputs": [
    {
     "data": {
      "text/plain": [
       "array([[0., 0., 0., 0., 0.],\n",
       "       [0., 0., 0., 0., 0.]])"
      ]
     },
     "execution_count": 34,
     "metadata": {},
     "output_type": "execute_result"
    }
   ],
   "source": [
    "zeros"
   ]
  },
  {
   "cell_type": "markdown",
   "id": "8a02e61e",
   "metadata": {},
   "source": [
    "**```arange()``` method**"
   ]
  },
  {
   "cell_type": "code",
   "execution_count": 37,
   "id": "610d95a4",
   "metadata": {},
   "outputs": [],
   "source": [
    "rng = np.arange(15) #aray from 1 to 15"
   ]
  },
  {
   "cell_type": "code",
   "execution_count": 38,
   "id": "e5a9db79",
   "metadata": {},
   "outputs": [
    {
     "data": {
      "text/plain": [
       "array([ 0,  1,  2,  3,  4,  5,  6,  7,  8,  9, 10, 11, 12, 13, 14])"
      ]
     },
     "execution_count": 38,
     "metadata": {},
     "output_type": "execute_result"
    }
   ],
   "source": [
    "rng"
   ]
  },
  {
   "cell_type": "markdown",
   "id": "c33cd1d3",
   "metadata": {},
   "source": [
    "**```linspace()``` method**"
   ]
  },
  {
   "cell_type": "code",
   "execution_count": 47,
   "id": "1932f713",
   "metadata": {},
   "outputs": [],
   "source": [
    "lspace = np.linspace(1,4,4) #array of 4 elements from 1 to 4 that are linearly spaced "
   ]
  },
  {
   "cell_type": "code",
   "execution_count": 48,
   "id": "ac46d313",
   "metadata": {},
   "outputs": [
    {
     "data": {
      "text/plain": [
       "array([1., 2., 3., 4.])"
      ]
     },
     "execution_count": 48,
     "metadata": {},
     "output_type": "execute_result"
    }
   ],
   "source": [
    "lspace"
   ]
  },
  {
   "cell_type": "code",
   "execution_count": 51,
   "id": "44cf0741",
   "metadata": {},
   "outputs": [],
   "source": [
    "lspace = np.linspace(1,4,5) #array of 5 elements from 1 to 4 that are linearly spaced "
   ]
  },
  {
   "cell_type": "code",
   "execution_count": 50,
   "id": "25da177e",
   "metadata": {},
   "outputs": [
    {
     "data": {
      "text/plain": [
       "array([1.  , 1.75, 2.5 , 3.25, 4.  ])"
      ]
     },
     "execution_count": 50,
     "metadata": {},
     "output_type": "execute_result"
    }
   ],
   "source": [
    "lspace"
   ]
  },
  {
   "cell_type": "markdown",
   "id": "c93946ea",
   "metadata": {},
   "source": [
    "**```empty()``` method**"
   ]
  },
  {
   "cell_type": "code",
   "execution_count": 54,
   "id": "950a7a94",
   "metadata": {},
   "outputs": [],
   "source": [
    "emp = np.empty((4,6)) #empty array of 4x6 with random elements"
   ]
  },
  {
   "cell_type": "code",
   "execution_count": 55,
   "id": "fbcc8cec",
   "metadata": {},
   "outputs": [
    {
     "data": {
      "text/plain": [
       "array([[6.23042070e-307, 4.67296746e-307, 1.69121096e-306,\n",
       "        1.29061414e-306, 7.56587585e-307, 1.37961302e-306],\n",
       "       [1.05699242e-307, 8.01097889e-307, 1.78020169e-306,\n",
       "        7.56601165e-307, 1.02359984e-306, 1.33510679e-306],\n",
       "       [2.22522597e-306, 1.33511018e-306, 6.23057689e-307,\n",
       "        1.86921279e-306, 8.90098127e-307, 1.78020848e-306],\n",
       "       [1.60219035e-306, 1.42418172e-306, 2.04712906e-306,\n",
       "        7.56589622e-307, 1.11258277e-307, 8.90111708e-307]])"
      ]
     },
     "execution_count": 55,
     "metadata": {},
     "output_type": "execute_result"
    }
   ],
   "source": [
    "emp"
   ]
  },
  {
   "cell_type": "markdown",
   "id": "438c97b3",
   "metadata": {},
   "source": [
    "**```empty_like()``` method**"
   ]
  },
  {
   "cell_type": "code",
   "execution_count": 59,
   "id": "47a1036d",
   "metadata": {},
   "outputs": [],
   "source": [
    "emp_like = np.empty_like(lspace) #copies lspace array "
   ]
  },
  {
   "cell_type": "code",
   "execution_count": 60,
   "id": "3ea7ce88",
   "metadata": {},
   "outputs": [
    {
     "data": {
      "text/plain": [
       "array([1.  , 1.75, 2.5 , 3.25, 4.  ])"
      ]
     },
     "execution_count": 60,
     "metadata": {},
     "output_type": "execute_result"
    }
   ],
   "source": [
    "emp_like"
   ]
  },
  {
   "cell_type": "markdown",
   "id": "5cc8f156",
   "metadata": {},
   "source": [
    "**```identity()``` method**"
   ]
  },
  {
   "cell_type": "code",
   "execution_count": 63,
   "id": "efdb77bf",
   "metadata": {},
   "outputs": [],
   "source": [
    "id = np.identity(45) #identity matrix of 45x45"
   ]
  },
  {
   "cell_type": "code",
   "execution_count": 64,
   "id": "7fd33351",
   "metadata": {},
   "outputs": [
    {
     "data": {
      "text/plain": [
       "array([[1., 0., 0., ..., 0., 0., 0.],\n",
       "       [0., 1., 0., ..., 0., 0., 0.],\n",
       "       [0., 0., 1., ..., 0., 0., 0.],\n",
       "       ...,\n",
       "       [0., 0., 0., ..., 1., 0., 0.],\n",
       "       [0., 0., 0., ..., 0., 1., 0.],\n",
       "       [0., 0., 0., ..., 0., 0., 1.]])"
      ]
     },
     "execution_count": 64,
     "metadata": {},
     "output_type": "execute_result"
    }
   ],
   "source": [
    "id"
   ]
  },
  {
   "cell_type": "code",
   "execution_count": 65,
   "id": "f1f5b005",
   "metadata": {},
   "outputs": [
    {
     "data": {
      "text/plain": [
       "(45, 45)"
      ]
     },
     "execution_count": 65,
     "metadata": {},
     "output_type": "execute_result"
    }
   ],
   "source": [
    "id.shape"
   ]
  },
  {
   "cell_type": "markdown",
   "id": "e7276d6e",
   "metadata": {},
   "source": [
    "**```reshape()``` method**"
   ]
  },
  {
   "cell_type": "code",
   "execution_count": 72,
   "id": "08b28d79",
   "metadata": {},
   "outputs": [],
   "source": [
    "arr = np.arange(99) #arrange a array of 99 elements  from 0 to 98"
   ]
  },
  {
   "cell_type": "code",
   "execution_count": 73,
   "id": "69bbe17d",
   "metadata": {},
   "outputs": [
    {
     "data": {
      "text/plain": [
       "array([ 0,  1,  2,  3,  4,  5,  6,  7,  8,  9, 10, 11, 12, 13, 14, 15, 16,\n",
       "       17, 18, 19, 20, 21, 22, 23, 24, 25, 26, 27, 28, 29, 30, 31, 32, 33,\n",
       "       34, 35, 36, 37, 38, 39, 40, 41, 42, 43, 44, 45, 46, 47, 48, 49, 50,\n",
       "       51, 52, 53, 54, 55, 56, 57, 58, 59, 60, 61, 62, 63, 64, 65, 66, 67,\n",
       "       68, 69, 70, 71, 72, 73, 74, 75, 76, 77, 78, 79, 80, 81, 82, 83, 84,\n",
       "       85, 86, 87, 88, 89, 90, 91, 92, 93, 94, 95, 96, 97, 98])"
      ]
     },
     "execution_count": 73,
     "metadata": {},
     "output_type": "execute_result"
    }
   ],
   "source": [
    "arr"
   ]
  },
  {
   "cell_type": "code",
   "execution_count": 78,
   "id": "be8aab9c",
   "metadata": {},
   "outputs": [],
   "source": [
    "arr = arr.reshape(3,33) #reshapes it to a 2D array with 3X33 shape"
   ]
  },
  {
   "cell_type": "code",
   "execution_count": 79,
   "id": "8649e710",
   "metadata": {},
   "outputs": [
    {
     "data": {
      "text/plain": [
       "(3, 33)"
      ]
     },
     "execution_count": 79,
     "metadata": {},
     "output_type": "execute_result"
    }
   ],
   "source": [
    "arr.shape"
   ]
  },
  {
   "cell_type": "markdown",
   "id": "1c420e38",
   "metadata": {},
   "source": [
    "**```ravel()``` method**"
   ]
  },
  {
   "cell_type": "code",
   "execution_count": 83,
   "id": "d76d3ec7",
   "metadata": {},
   "outputs": [],
   "source": [
    "arr = arr.ravel() #converts back to 1D array"
   ]
  },
  {
   "cell_type": "code",
   "execution_count": 85,
   "id": "5c3f3f13",
   "metadata": {},
   "outputs": [
    {
     "data": {
      "text/plain": [
       "array([ 0,  1,  2,  3,  4,  5,  6,  7,  8,  9, 10, 11, 12, 13, 14, 15, 16,\n",
       "       17, 18, 19, 20, 21, 22, 23, 24, 25, 26, 27, 28, 29, 30, 31, 32, 33,\n",
       "       34, 35, 36, 37, 38, 39, 40, 41, 42, 43, 44, 45, 46, 47, 48, 49, 50,\n",
       "       51, 52, 53, 54, 55, 56, 57, 58, 59, 60, 61, 62, 63, 64, 65, 66, 67,\n",
       "       68, 69, 70, 71, 72, 73, 74, 75, 76, 77, 78, 79, 80, 81, 82, 83, 84,\n",
       "       85, 86, 87, 88, 89, 90, 91, 92, 93, 94, 95, 96, 97, 98])"
      ]
     },
     "execution_count": 85,
     "metadata": {},
     "output_type": "execute_result"
    }
   ],
   "source": [
    "arr"
   ]
  },
  {
   "cell_type": "code",
   "execution_count": 84,
   "id": "d718d07d",
   "metadata": {},
   "outputs": [
    {
     "data": {
      "text/plain": [
       "(99,)"
      ]
     },
     "execution_count": 84,
     "metadata": {},
     "output_type": "execute_result"
    }
   ],
   "source": [
    "arr.shape"
   ]
  },
  {
   "cell_type": "markdown",
   "id": "c6262476",
   "metadata": {},
   "source": [
    "## Numpy Axix"
   ]
  },
  {
   "cell_type": "code",
   "execution_count": null,
   "id": "5e7f178d",
   "metadata": {},
   "outputs": [],
   "source": []
  }
 ],
 "metadata": {
  "kernelspec": {
   "display_name": "Python 3 (ipykernel)",
   "language": "python",
   "name": "python3"
  },
  "language_info": {
   "codemirror_mode": {
    "name": "ipython",
    "version": 3
   },
   "file_extension": ".py",
   "mimetype": "text/x-python",
   "name": "python",
   "nbconvert_exporter": "python",
   "pygments_lexer": "ipython3",
   "version": "3.9.13"
  }
 },
 "nbformat": 4,
 "nbformat_minor": 5
}
